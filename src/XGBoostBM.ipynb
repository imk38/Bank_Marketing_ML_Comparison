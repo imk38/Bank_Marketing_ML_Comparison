{
 "cells": [
  {
   "cell_type": "code",
   "execution_count": 1,
   "metadata": {},
   "outputs": [],
   "source": [
    "import pandas as pd\n",
    "from sklearn.model_selection import train_test_split, GridSearchCV\n",
    "from sklearn.preprocessing import OneHotEncoder\n",
    "from sklearn.compose import ColumnTransformer\n",
    "from xgboost import XGBClassifier\n",
    "from sklearn.pipeline import Pipeline\n",
    "from sklearn.metrics import classification_report, confusion_matrix, accuracy_score, roc_auc_score, roc_curve\n",
    "import matplotlib.pyplot as plt"
   ]
  },
  {
   "cell_type": "code",
   "execution_count": 3,
   "metadata": {},
   "outputs": [
    {
     "name": "stdout",
     "output_type": "stream",
     "text": [
      "Categorical columns: Index(['job', 'marital', 'education', 'default', 'housing', 'loan', 'contact',\n",
      "       'month', 'day_of_week', 'poutcome'],\n",
      "      dtype='object')\n",
      "Numeric columns: Index(['age', 'duration', 'campaign', 'pdays', 'previous', 'emp.var.rate',\n",
      "       'cons.price.idx', 'cons.conf.idx', 'euribor3m', 'nr.employed'],\n",
      "      dtype='object')\n"
     ]
    }
   ],
   "source": [
    "df = pd.read_csv('../bank-additional-full.csv', sep=';')\n",
    "\n",
    "y = df['y'].map({'yes': 1, 'no': 0})\n",
    "X = df.drop('y', axis=1)\n",
    "\n",
    "#finding categorical and numeric variables\n",
    "categorical_cols = X.select_dtypes(include='object').columns\n",
    "numeric_cols = X.select_dtypes(exclude='object').columns\n",
    "\n",
    "print(\"Categorical columns:\", categorical_cols)\n",
    "print(\"Numeric columns:\", numeric_cols)\n"
   ]
  },
  {
   "cell_type": "code",
   "execution_count": 4,
   "metadata": {},
   "outputs": [],
   "source": [
    "preprocessor = ColumnTransformer(\n",
    "    transformers=[\n",
    "        ('cat', OneHotEncoder(handle_unknown='ignore'), categorical_cols),\n",
    "        ('num', 'passthrough', numeric_cols)\n",
    "    ]\n",
    ")\n"
   ]
  },
  {
   "cell_type": "code",
   "execution_count": 5,
   "metadata": {},
   "outputs": [],
   "source": [
    "xgb = XGBClassifier(\n",
    "    objective='binary:logistic',\n",
    "    eval_metric='logloss',\n",
    "    random_state=1,\n",
    "    use_label_encoder=False\n",
    ")\n"
   ]
  },
  {
   "cell_type": "code",
   "execution_count": 7,
   "metadata": {},
   "outputs": [],
   "source": [
    "pipe = Pipeline(steps=[\n",
    "    ('preprocessor', preprocessor),\n",
    "    ('model', xgb)\n",
    "])"
   ]
  },
  {
   "cell_type": "code",
   "execution_count": 8,
   "metadata": {},
   "outputs": [],
   "source": [
    "param_grid = {\n",
    "    'model__n_estimators': [100, 200],\n",
    "    'model__max_depth': [3, 5, 7],\n",
    "    'model__learning_rate': [0.01, 0.1],\n",
    "    'model__subsample': [0.8, 1.0],\n",
    "    'model__colsample_bytree': [0.8, 1.0]\n",
    "}\n",
    "\n"
   ]
  },
  {
   "cell_type": "code",
   "execution_count": 9,
   "metadata": {},
   "outputs": [],
   "source": [
    "# Train/test split\n",
    "X_train, X_test, y_train, y_test = train_test_split(\n",
    "    X, y, test_size=0.2, random_state=1, stratify=y\n",
    ")\n",
    "\n"
   ]
  },
  {
   "cell_type": "code",
   "execution_count": 10,
   "metadata": {},
   "outputs": [
    {
     "name": "stdout",
     "output_type": "stream",
     "text": [
      "Fitting 5 folds for each of 48 candidates, totalling 240 fits\n"
     ]
    },
    {
     "name": "stderr",
     "output_type": "stream",
     "text": [
      "/Users/iankwak/Documents/Bank_Marketing_ML/venv/lib/python3.9/site-packages/xgboost/core.py:158: UserWarning: [18:42:21] WARNING: /Users/runner/work/xgboost/xgboost/src/learner.cc:740: \n",
      "Parameters: { \"use_label_encoder\" } are not used.\n",
      "\n",
      "  warnings.warn(smsg, UserWarning)\n",
      "/Users/iankwak/Documents/Bank_Marketing_ML/venv/lib/python3.9/site-packages/xgboost/core.py:158: UserWarning: [18:42:21] WARNING: /Users/runner/work/xgboost/xgboost/src/learner.cc:740: \n",
      "Parameters: { \"use_label_encoder\" } are not used.\n",
      "\n",
      "  warnings.warn(smsg, UserWarning)\n",
      "/Users/iankwak/Documents/Bank_Marketing_ML/venv/lib/python3.9/site-packages/xgboost/core.py:158: UserWarning: [18:42:21] WARNING: /Users/runner/work/xgboost/xgboost/src/learner.cc:740: \n",
      "Parameters: { \"use_label_encoder\" } are not used.\n",
      "\n",
      "  warnings.warn(smsg, UserWarning)\n",
      "/Users/iankwak/Documents/Bank_Marketing_ML/venv/lib/python3.9/site-packages/xgboost/core.py:158: UserWarning: [18:42:21] WARNING: /Users/runner/work/xgboost/xgboost/src/learner.cc:740: \n",
      "Parameters: { \"use_label_encoder\" } are not used.\n",
      "\n",
      "  warnings.warn(smsg, UserWarning)\n",
      "/Users/iankwak/Documents/Bank_Marketing_ML/venv/lib/python3.9/site-packages/xgboost/core.py:158: UserWarning: [18:42:21] WARNING: /Users/runner/work/xgboost/xgboost/src/learner.cc:740: \n",
      "Parameters: { \"use_label_encoder\" } are not used.\n",
      "\n",
      "  warnings.warn(smsg, UserWarning)\n",
      "/Users/iankwak/Documents/Bank_Marketing_ML/venv/lib/python3.9/site-packages/xgboost/core.py:158: UserWarning: [18:42:21] WARNING: /Users/runner/work/xgboost/xgboost/src/learner.cc:740: \n",
      "Parameters: { \"use_label_encoder\" } are not used.\n",
      "\n",
      "  warnings.warn(smsg, UserWarning)\n",
      "/Users/iankwak/Documents/Bank_Marketing_ML/venv/lib/python3.9/site-packages/xgboost/core.py:158: UserWarning: [18:42:21] WARNING: /Users/runner/work/xgboost/xgboost/src/learner.cc:740: \n",
      "Parameters: { \"use_label_encoder\" } are not used.\n",
      "\n",
      "  warnings.warn(smsg, UserWarning)\n",
      "/Users/iankwak/Documents/Bank_Marketing_ML/venv/lib/python3.9/site-packages/xgboost/core.py:158: UserWarning: [18:42:21] WARNING: /Users/runner/work/xgboost/xgboost/src/learner.cc:740: \n",
      "Parameters: { \"use_label_encoder\" } are not used.\n",
      "\n",
      "  warnings.warn(smsg, UserWarning)\n"
     ]
    },
    {
     "name": "stdout",
     "output_type": "stream",
     "text": [
      "[CV] END model__colsample_bytree=0.8, model__learning_rate=0.01, model__max_depth=3, model__n_estimators=100, model__subsample=1.0; total time=   1.0s\n",
      "[CV] END model__colsample_bytree=0.8, model__learning_rate=0.01, model__max_depth=3, model__n_estimators=100, model__subsample=0.8; total time=   1.1s\n",
      "[CV] END model__colsample_bytree=0.8, model__learning_rate=0.01, model__max_depth=3, model__n_estimators=100, model__subsample=1.0; total time=   1.1s\n",
      "[CV] END model__colsample_bytree=0.8, model__learning_rate=0.01, model__max_depth=3, model__n_estimators=100, model__subsample=0.8; total time=   1.1s\n",
      "[CV] END model__colsample_bytree=0.8, model__learning_rate=0.01, model__max_depth=3, model__n_estimators=100, model__subsample=0.8; total time=   1.2s\n",
      "[CV] END model__colsample_bytree=0.8, model__learning_rate=0.01, model__max_depth=3, model__n_estimators=100, model__subsample=0.8; total time=   1.2s\n",
      "[CV] END model__colsample_bytree=0.8, model__learning_rate=0.01, model__max_depth=3, model__n_estimators=100, model__subsample=1.0; total time=   1.2s\n",
      "[CV] END model__colsample_bytree=0.8, model__learning_rate=0.01, model__max_depth=3, model__n_estimators=100, model__subsample=0.8; total time=   1.3s\n"
     ]
    },
    {
     "name": "stderr",
     "output_type": "stream",
     "text": [
      "/Users/iankwak/Documents/Bank_Marketing_ML/venv/lib/python3.9/site-packages/xgboost/core.py:158: UserWarning: [18:42:22] WARNING: /Users/runner/work/xgboost/xgboost/src/learner.cc:740: \n",
      "Parameters: { \"use_label_encoder\" } are not used.\n",
      "\n",
      "  warnings.warn(smsg, UserWarning)\n",
      "/Users/iankwak/Documents/Bank_Marketing_ML/venv/lib/python3.9/site-packages/xgboost/core.py:158: UserWarning: [18:42:22] WARNING: /Users/runner/work/xgboost/xgboost/src/learner.cc:740: \n",
      "Parameters: { \"use_label_encoder\" } are not used.\n",
      "\n",
      "  warnings.warn(smsg, UserWarning)\n",
      "/Users/iankwak/Documents/Bank_Marketing_ML/venv/lib/python3.9/site-packages/xgboost/core.py:158: UserWarning: [18:42:22] WARNING: /Users/runner/work/xgboost/xgboost/src/learner.cc:740: \n",
      "Parameters: { \"use_label_encoder\" } are not used.\n",
      "\n",
      "  warnings.warn(smsg, UserWarning)\n",
      "/Users/iankwak/Documents/Bank_Marketing_ML/venv/lib/python3.9/site-packages/xgboost/core.py:158: UserWarning: [18:42:22] WARNING: /Users/runner/work/xgboost/xgboost/src/learner.cc:740: \n",
      "Parameters: { \"use_label_encoder\" } are not used.\n",
      "\n",
      "  warnings.warn(smsg, UserWarning)\n",
      "/Users/iankwak/Documents/Bank_Marketing_ML/venv/lib/python3.9/site-packages/xgboost/core.py:158: UserWarning: [18:42:22] WARNING: /Users/runner/work/xgboost/xgboost/src/learner.cc:740: \n",
      "Parameters: { \"use_label_encoder\" } are not used.\n",
      "\n",
      "  warnings.warn(smsg, UserWarning)\n"
     ]
    },
    {
     "name": "stdout",
     "output_type": "stream",
     "text": [
      "[CV] END model__colsample_bytree=0.8, model__learning_rate=0.01, model__max_depth=3, model__n_estimators=100, model__subsample=1.0; total time=   1.1s\n",
      "[CV] END model__colsample_bytree=0.8, model__learning_rate=0.01, model__max_depth=3, model__n_estimators=100, model__subsample=1.0; total time=   1.1s\n"
     ]
    },
    {
     "name": "stderr",
     "output_type": "stream",
     "text": [
      "/Users/iankwak/Documents/Bank_Marketing_ML/venv/lib/python3.9/site-packages/xgboost/core.py:158: UserWarning: [18:42:23] WARNING: /Users/runner/work/xgboost/xgboost/src/learner.cc:740: \n",
      "Parameters: { \"use_label_encoder\" } are not used.\n",
      "\n",
      "  warnings.warn(smsg, UserWarning)\n",
      "/Users/iankwak/Documents/Bank_Marketing_ML/venv/lib/python3.9/site-packages/xgboost/core.py:158: UserWarning: [18:42:23] WARNING: /Users/runner/work/xgboost/xgboost/src/learner.cc:740: \n",
      "Parameters: { \"use_label_encoder\" } are not used.\n",
      "\n",
      "  warnings.warn(smsg, UserWarning)\n",
      "/Users/iankwak/Documents/Bank_Marketing_ML/venv/lib/python3.9/site-packages/xgboost/core.py:158: UserWarning: [18:42:23] WARNING: /Users/runner/work/xgboost/xgboost/src/learner.cc:740: \n",
      "Parameters: { \"use_label_encoder\" } are not used.\n",
      "\n",
      "  warnings.warn(smsg, UserWarning)\n",
      "/Users/iankwak/Documents/Bank_Marketing_ML/venv/lib/python3.9/site-packages/xgboost/core.py:158: UserWarning: [18:42:23] WARNING: /Users/runner/work/xgboost/xgboost/src/learner.cc:740: \n",
      "Parameters: { \"use_label_encoder\" } are not used.\n",
      "\n",
      "  warnings.warn(smsg, UserWarning)\n",
      "/Users/iankwak/Documents/Bank_Marketing_ML/venv/lib/python3.9/site-packages/xgboost/core.py:158: UserWarning: [18:42:23] WARNING: /Users/runner/work/xgboost/xgboost/src/learner.cc:740: \n",
      "Parameters: { \"use_label_encoder\" } are not used.\n",
      "\n",
      "  warnings.warn(smsg, UserWarning)\n"
     ]
    },
    {
     "name": "stdout",
     "output_type": "stream",
     "text": [
      "[CV] END model__colsample_bytree=0.8, model__learning_rate=0.01, model__max_depth=3, model__n_estimators=200, model__subsample=0.8; total time=   2.1s\n",
      "[CV] END model__colsample_bytree=0.8, model__learning_rate=0.01, model__max_depth=3, model__n_estimators=200, model__subsample=0.8; total time=   2.0s\n",
      "[CV] END model__colsample_bytree=0.8, model__learning_rate=0.01, model__max_depth=3, model__n_estimators=200, model__subsample=0.8; total time=   2.2s\n",
      "[CV] END model__colsample_bytree=0.8, model__learning_rate=0.01, model__max_depth=3, model__n_estimators=200, model__subsample=0.8; total time=   2.0s\n",
      "[CV] END model__colsample_bytree=0.8, model__learning_rate=0.01, model__max_depth=3, model__n_estimators=200, model__subsample=0.8; total time=   2.0s\n",
      "[CV] END model__colsample_bytree=0.8, model__learning_rate=0.01, model__max_depth=3, model__n_estimators=200, model__subsample=1.0; total time=   2.0s\n"
     ]
    },
    {
     "name": "stderr",
     "output_type": "stream",
     "text": [
      "/Users/iankwak/Documents/Bank_Marketing_ML/venv/lib/python3.9/site-packages/xgboost/core.py:158: UserWarning: [18:42:24] WARNING: /Users/runner/work/xgboost/xgboost/src/learner.cc:740: \n",
      "Parameters: { \"use_label_encoder\" } are not used.\n",
      "\n",
      "  warnings.warn(smsg, UserWarning)\n",
      "/Users/iankwak/Documents/Bank_Marketing_ML/venv/lib/python3.9/site-packages/xgboost/core.py:158: UserWarning: [18:42:24] WARNING: /Users/runner/work/xgboost/xgboost/src/learner.cc:740: \n",
      "Parameters: { \"use_label_encoder\" } are not used.\n",
      "\n",
      "  warnings.warn(smsg, UserWarning)\n"
     ]
    },
    {
     "name": "stdout",
     "output_type": "stream",
     "text": [
      "[CV] END model__colsample_bytree=0.8, model__learning_rate=0.01, model__max_depth=3, model__n_estimators=200, model__subsample=1.0; total time=   1.8s\n",
      "[CV] END model__colsample_bytree=0.8, model__learning_rate=0.01, model__max_depth=3, model__n_estimators=200, model__subsample=1.0; total time=   1.8s\n"
     ]
    },
    {
     "name": "stderr",
     "output_type": "stream",
     "text": [
      "/Users/iankwak/Documents/Bank_Marketing_ML/venv/lib/python3.9/site-packages/xgboost/core.py:158: UserWarning: [18:42:25] WARNING: /Users/runner/work/xgboost/xgboost/src/learner.cc:740: \n",
      "Parameters: { \"use_label_encoder\" } are not used.\n",
      "\n",
      "  warnings.warn(smsg, UserWarning)\n",
      "/Users/iankwak/Documents/Bank_Marketing_ML/venv/lib/python3.9/site-packages/xgboost/core.py:158: UserWarning: [18:42:25] WARNING: /Users/runner/work/xgboost/xgboost/src/learner.cc:740: \n",
      "Parameters: { \"use_label_encoder\" } are not used.\n",
      "\n",
      "  warnings.warn(smsg, UserWarning)\n",
      "/Users/iankwak/Documents/Bank_Marketing_ML/venv/lib/python3.9/site-packages/xgboost/core.py:158: UserWarning: [18:42:25] WARNING: /Users/runner/work/xgboost/xgboost/src/learner.cc:740: \n",
      "Parameters: { \"use_label_encoder\" } are not used.\n",
      "\n",
      "  warnings.warn(smsg, UserWarning)\n",
      "/Users/iankwak/Documents/Bank_Marketing_ML/venv/lib/python3.9/site-packages/xgboost/core.py:158: UserWarning: [18:42:25] WARNING: /Users/runner/work/xgboost/xgboost/src/learner.cc:740: \n",
      "Parameters: { \"use_label_encoder\" } are not used.\n",
      "\n",
      "  warnings.warn(smsg, UserWarning)\n",
      "/Users/iankwak/Documents/Bank_Marketing_ML/venv/lib/python3.9/site-packages/xgboost/core.py:158: UserWarning: [18:42:25] WARNING: /Users/runner/work/xgboost/xgboost/src/learner.cc:740: \n",
      "Parameters: { \"use_label_encoder\" } are not used.\n",
      "\n",
      "  warnings.warn(smsg, UserWarning)\n",
      "/Users/iankwak/Documents/Bank_Marketing_ML/venv/lib/python3.9/site-packages/xgboost/core.py:158: UserWarning: [18:42:25] WARNING: /Users/runner/work/xgboost/xgboost/src/learner.cc:740: \n",
      "Parameters: { \"use_label_encoder\" } are not used.\n",
      "\n",
      "  warnings.warn(smsg, UserWarning)\n"
     ]
    },
    {
     "name": "stdout",
     "output_type": "stream",
     "text": [
      "[CV] END model__colsample_bytree=0.8, model__learning_rate=0.01, model__max_depth=5, model__n_estimators=100, model__subsample=0.8; total time=   1.3s\n",
      "[CV] END model__colsample_bytree=0.8, model__learning_rate=0.01, model__max_depth=5, model__n_estimators=100, model__subsample=0.8; total time=   1.3s\n",
      "[CV] END model__colsample_bytree=0.8, model__learning_rate=0.01, model__max_depth=5, model__n_estimators=100, model__subsample=0.8; total time=   1.3s\n",
      "[CV] END model__colsample_bytree=0.8, model__learning_rate=0.01, model__max_depth=3, model__n_estimators=200, model__subsample=1.0; total time=   1.7s\n",
      "[CV] END model__colsample_bytree=0.8, model__learning_rate=0.01, model__max_depth=3, model__n_estimators=200, model__subsample=1.0; total time=   1.7s\n",
      "[CV] END model__colsample_bytree=0.8, model__learning_rate=0.01, model__max_depth=5, model__n_estimators=100, model__subsample=0.8; total time=   1.4s\n",
      "[CV] END model__colsample_bytree=0.8, model__learning_rate=0.01, model__max_depth=5, model__n_estimators=100, model__subsample=1.0; total time=   1.1s\n",
      "[CV] END model__colsample_bytree=0.8, model__learning_rate=0.01, model__max_depth=5, model__n_estimators=100, model__subsample=0.8; total time=   1.3s\n"
     ]
    },
    {
     "name": "stderr",
     "output_type": "stream",
     "text": [
      "/Users/iankwak/Documents/Bank_Marketing_ML/venv/lib/python3.9/site-packages/xgboost/core.py:158: UserWarning: [18:42:26] WARNING: /Users/runner/work/xgboost/xgboost/src/learner.cc:740: \n",
      "Parameters: { \"use_label_encoder\" } are not used.\n",
      "\n",
      "  warnings.warn(smsg, UserWarning)\n",
      "/Users/iankwak/Documents/Bank_Marketing_ML/venv/lib/python3.9/site-packages/xgboost/core.py:158: UserWarning: [18:42:26] WARNING: /Users/runner/work/xgboost/xgboost/src/learner.cc:740: \n",
      "Parameters: { \"use_label_encoder\" } are not used.\n",
      "\n",
      "  warnings.warn(smsg, UserWarning)\n",
      "/Users/iankwak/Documents/Bank_Marketing_ML/venv/lib/python3.9/site-packages/xgboost/core.py:158: UserWarning: [18:42:26] WARNING: /Users/runner/work/xgboost/xgboost/src/learner.cc:740: \n",
      "Parameters: { \"use_label_encoder\" } are not used.\n",
      "\n",
      "  warnings.warn(smsg, UserWarning)\n",
      "/Users/iankwak/Documents/Bank_Marketing_ML/venv/lib/python3.9/site-packages/xgboost/core.py:158: UserWarning: [18:42:26] WARNING: /Users/runner/work/xgboost/xgboost/src/learner.cc:740: \n",
      "Parameters: { \"use_label_encoder\" } are not used.\n",
      "\n",
      "  warnings.warn(smsg, UserWarning)\n",
      "/Users/iankwak/Documents/Bank_Marketing_ML/venv/lib/python3.9/site-packages/xgboost/core.py:158: UserWarning: [18:42:26] WARNING: /Users/runner/work/xgboost/xgboost/src/learner.cc:740: \n",
      "Parameters: { \"use_label_encoder\" } are not used.\n",
      "\n",
      "  warnings.warn(smsg, UserWarning)\n",
      "/Users/iankwak/Documents/Bank_Marketing_ML/venv/lib/python3.9/site-packages/xgboost/core.py:158: UserWarning: [18:42:26] WARNING: /Users/runner/work/xgboost/xgboost/src/learner.cc:740: \n",
      "Parameters: { \"use_label_encoder\" } are not used.\n",
      "\n",
      "  warnings.warn(smsg, UserWarning)\n",
      "/Users/iankwak/Documents/Bank_Marketing_ML/venv/lib/python3.9/site-packages/xgboost/core.py:158: UserWarning: [18:42:26] WARNING: /Users/runner/work/xgboost/xgboost/src/learner.cc:740: \n",
      "Parameters: { \"use_label_encoder\" } are not used.\n",
      "\n",
      "  warnings.warn(smsg, UserWarning)\n",
      "/Users/iankwak/Documents/Bank_Marketing_ML/venv/lib/python3.9/site-packages/xgboost/core.py:158: UserWarning: [18:42:26] WARNING: /Users/runner/work/xgboost/xgboost/src/learner.cc:740: \n",
      "Parameters: { \"use_label_encoder\" } are not used.\n",
      "\n",
      "  warnings.warn(smsg, UserWarning)\n"
     ]
    },
    {
     "name": "stdout",
     "output_type": "stream",
     "text": [
      "[CV] END model__colsample_bytree=0.8, model__learning_rate=0.01, model__max_depth=5, model__n_estimators=100, model__subsample=1.0; total time=   1.2s\n",
      "[CV] END model__colsample_bytree=0.8, model__learning_rate=0.01, model__max_depth=5, model__n_estimators=100, model__subsample=1.0; total time=   1.1s\n",
      "[CV] END model__colsample_bytree=0.8, model__learning_rate=0.01, model__max_depth=5, model__n_estimators=100, model__subsample=1.0; total time=   1.2s\n",
      "[CV] END model__colsample_bytree=0.8, model__learning_rate=0.01, model__max_depth=5, model__n_estimators=100, model__subsample=1.0; total time=   1.2s\n"
     ]
    },
    {
     "name": "stderr",
     "output_type": "stream",
     "text": [
      "/Users/iankwak/Documents/Bank_Marketing_ML/venv/lib/python3.9/site-packages/xgboost/core.py:158: UserWarning: [18:42:27] WARNING: /Users/runner/work/xgboost/xgboost/src/learner.cc:740: \n",
      "Parameters: { \"use_label_encoder\" } are not used.\n",
      "\n",
      "  warnings.warn(smsg, UserWarning)\n",
      "/Users/iankwak/Documents/Bank_Marketing_ML/venv/lib/python3.9/site-packages/xgboost/core.py:158: UserWarning: [18:42:27] WARNING: /Users/runner/work/xgboost/xgboost/src/learner.cc:740: \n",
      "Parameters: { \"use_label_encoder\" } are not used.\n",
      "\n",
      "  warnings.warn(smsg, UserWarning)\n",
      "/Users/iankwak/Documents/Bank_Marketing_ML/venv/lib/python3.9/site-packages/xgboost/core.py:158: UserWarning: [18:42:27] WARNING: /Users/runner/work/xgboost/xgboost/src/learner.cc:740: \n",
      "Parameters: { \"use_label_encoder\" } are not used.\n",
      "\n",
      "  warnings.warn(smsg, UserWarning)\n",
      "/Users/iankwak/Documents/Bank_Marketing_ML/venv/lib/python3.9/site-packages/xgboost/core.py:158: UserWarning: [18:42:27] WARNING: /Users/runner/work/xgboost/xgboost/src/learner.cc:740: \n",
      "Parameters: { \"use_label_encoder\" } are not used.\n",
      "\n",
      "  warnings.warn(smsg, UserWarning)\n"
     ]
    },
    {
     "name": "stdout",
     "output_type": "stream",
     "text": [
      "[CV] END model__colsample_bytree=0.8, model__learning_rate=0.01, model__max_depth=5, model__n_estimators=200, model__subsample=0.8; total time=   1.8s\n",
      "[CV] END model__colsample_bytree=0.8, model__learning_rate=0.01, model__max_depth=5, model__n_estimators=200, model__subsample=0.8; total time=   1.7s\n",
      "[CV] END model__colsample_bytree=0.8, model__learning_rate=0.01, model__max_depth=5, model__n_estimators=200, model__subsample=0.8; total time=   2.0s\n",
      "[CV] END model__colsample_bytree=0.8, model__learning_rate=0.01, model__max_depth=5, model__n_estimators=200, model__subsample=0.8; total time=   1.7s\n"
     ]
    },
    {
     "name": "stderr",
     "output_type": "stream",
     "text": [
      "/Users/iankwak/Documents/Bank_Marketing_ML/venv/lib/python3.9/site-packages/xgboost/core.py:158: UserWarning: [18:42:28] WARNING: /Users/runner/work/xgboost/xgboost/src/learner.cc:740: \n",
      "Parameters: { \"use_label_encoder\" } are not used.\n",
      "\n",
      "  warnings.warn(smsg, UserWarning)\n",
      "/Users/iankwak/Documents/Bank_Marketing_ML/venv/lib/python3.9/site-packages/xgboost/core.py:158: UserWarning: [18:42:28] WARNING: /Users/runner/work/xgboost/xgboost/src/learner.cc:740: \n",
      "Parameters: { \"use_label_encoder\" } are not used.\n",
      "\n",
      "  warnings.warn(smsg, UserWarning)\n",
      "/Users/iankwak/Documents/Bank_Marketing_ML/venv/lib/python3.9/site-packages/xgboost/core.py:158: UserWarning: [18:42:28] WARNING: /Users/runner/work/xgboost/xgboost/src/learner.cc:740: \n",
      "Parameters: { \"use_label_encoder\" } are not used.\n",
      "\n",
      "  warnings.warn(smsg, UserWarning)\n",
      "/Users/iankwak/Documents/Bank_Marketing_ML/venv/lib/python3.9/site-packages/xgboost/core.py:158: UserWarning: [18:42:28] WARNING: /Users/runner/work/xgboost/xgboost/src/learner.cc:740: \n",
      "Parameters: { \"use_label_encoder\" } are not used.\n",
      "\n",
      "  warnings.warn(smsg, UserWarning)\n"
     ]
    },
    {
     "name": "stdout",
     "output_type": "stream",
     "text": [
      "[CV] END model__colsample_bytree=0.8, model__learning_rate=0.01, model__max_depth=5, model__n_estimators=200, model__subsample=0.8; total time=   1.9s\n",
      "[CV] END model__colsample_bytree=0.8, model__learning_rate=0.01, model__max_depth=5, model__n_estimators=200, model__subsample=1.0; total time=   1.9s\n",
      "[CV] END model__colsample_bytree=0.8, model__learning_rate=0.01, model__max_depth=5, model__n_estimators=200, model__subsample=1.0; total time=   1.9s\n",
      "[CV] END model__colsample_bytree=0.8, model__learning_rate=0.01, model__max_depth=5, model__n_estimators=200, model__subsample=1.0; total time=   1.9s\n",
      "[CV] END model__colsample_bytree=0.8, model__learning_rate=0.01, model__max_depth=7, model__n_estimators=100, model__subsample=0.8; total time=   1.4s\n",
      "[CV] END model__colsample_bytree=0.8, model__learning_rate=0.01, model__max_depth=7, model__n_estimators=100, model__subsample=0.8; total time=   1.5s\n"
     ]
    },
    {
     "name": "stderr",
     "output_type": "stream",
     "text": [
      "/Users/iankwak/Documents/Bank_Marketing_ML/venv/lib/python3.9/site-packages/xgboost/core.py:158: UserWarning: [18:42:29] WARNING: /Users/runner/work/xgboost/xgboost/src/learner.cc:740: \n",
      "Parameters: { \"use_label_encoder\" } are not used.\n",
      "\n",
      "  warnings.warn(smsg, UserWarning)\n",
      "/Users/iankwak/Documents/Bank_Marketing_ML/venv/lib/python3.9/site-packages/xgboost/core.py:158: UserWarning: [18:42:29] WARNING: /Users/runner/work/xgboost/xgboost/src/learner.cc:740: \n",
      "Parameters: { \"use_label_encoder\" } are not used.\n",
      "\n",
      "  warnings.warn(smsg, UserWarning)\n",
      "/Users/iankwak/Documents/Bank_Marketing_ML/venv/lib/python3.9/site-packages/xgboost/core.py:158: UserWarning: [18:42:29] WARNING: /Users/runner/work/xgboost/xgboost/src/learner.cc:740: \n",
      "Parameters: { \"use_label_encoder\" } are not used.\n",
      "\n",
      "  warnings.warn(smsg, UserWarning)\n",
      "/Users/iankwak/Documents/Bank_Marketing_ML/venv/lib/python3.9/site-packages/xgboost/core.py:158: UserWarning: [18:42:30] WARNING: /Users/runner/work/xgboost/xgboost/src/learner.cc:740: \n",
      "Parameters: { \"use_label_encoder\" } are not used.\n",
      "\n",
      "  warnings.warn(smsg, UserWarning)\n"
     ]
    },
    {
     "name": "stdout",
     "output_type": "stream",
     "text": [
      "[CV] END model__colsample_bytree=0.8, model__learning_rate=0.01, model__max_depth=5, model__n_estimators=200, model__subsample=1.0; total time=   1.9s\n",
      "[CV] END model__colsample_bytree=0.8, model__learning_rate=0.01, model__max_depth=5, model__n_estimators=200, model__subsample=1.0; total time=   2.1s\n"
     ]
    },
    {
     "name": "stderr",
     "output_type": "stream",
     "text": [
      "/Users/iankwak/Documents/Bank_Marketing_ML/venv/lib/python3.9/site-packages/xgboost/core.py:158: UserWarning: [18:42:30] WARNING: /Users/runner/work/xgboost/xgboost/src/learner.cc:740: \n",
      "Parameters: { \"use_label_encoder\" } are not used.\n",
      "\n",
      "  warnings.warn(smsg, UserWarning)\n",
      "/Users/iankwak/Documents/Bank_Marketing_ML/venv/lib/python3.9/site-packages/xgboost/core.py:158: UserWarning: [18:42:30] WARNING: /Users/runner/work/xgboost/xgboost/src/learner.cc:740: \n",
      "Parameters: { \"use_label_encoder\" } are not used.\n",
      "\n",
      "  warnings.warn(smsg, UserWarning)\n",
      "/Users/iankwak/Documents/Bank_Marketing_ML/venv/lib/python3.9/site-packages/xgboost/core.py:158: UserWarning: [18:42:30] WARNING: /Users/runner/work/xgboost/xgboost/src/learner.cc:740: \n",
      "Parameters: { \"use_label_encoder\" } are not used.\n",
      "\n",
      "  warnings.warn(smsg, UserWarning)\n",
      "/Users/iankwak/Documents/Bank_Marketing_ML/venv/lib/python3.9/site-packages/xgboost/core.py:158: UserWarning: [18:42:30] WARNING: /Users/runner/work/xgboost/xgboost/src/learner.cc:740: \n",
      "Parameters: { \"use_label_encoder\" } are not used.\n",
      "\n",
      "  warnings.warn(smsg, UserWarning)\n"
     ]
    },
    {
     "name": "stdout",
     "output_type": "stream",
     "text": [
      "[CV] END model__colsample_bytree=0.8, model__learning_rate=0.01, model__max_depth=7, model__n_estimators=100, model__subsample=0.8; total time=   1.6s\n",
      "[CV] END model__colsample_bytree=0.8, model__learning_rate=0.01, model__max_depth=7, model__n_estimators=100, model__subsample=0.8; total time=   1.4s\n",
      "[CV] END model__colsample_bytree=0.8, model__learning_rate=0.01, model__max_depth=7, model__n_estimators=100, model__subsample=0.8; total time=   1.4s\n",
      "[CV] END model__colsample_bytree=0.8, model__learning_rate=0.01, model__max_depth=7, model__n_estimators=100, model__subsample=1.0; total time=   1.5s\n",
      "[CV] END model__colsample_bytree=0.8, model__learning_rate=0.01, model__max_depth=7, model__n_estimators=100, model__subsample=1.0; total time=   1.3s\n"
     ]
    },
    {
     "name": "stderr",
     "output_type": "stream",
     "text": [
      "/Users/iankwak/Documents/Bank_Marketing_ML/venv/lib/python3.9/site-packages/xgboost/core.py:158: UserWarning: [18:42:31] WARNING: /Users/runner/work/xgboost/xgboost/src/learner.cc:740: \n",
      "Parameters: { \"use_label_encoder\" } are not used.\n",
      "\n",
      "  warnings.warn(smsg, UserWarning)\n",
      "/Users/iankwak/Documents/Bank_Marketing_ML/venv/lib/python3.9/site-packages/xgboost/core.py:158: UserWarning: [18:42:31] WARNING: /Users/runner/work/xgboost/xgboost/src/learner.cc:740: \n",
      "Parameters: { \"use_label_encoder\" } are not used.\n",
      "\n",
      "  warnings.warn(smsg, UserWarning)\n",
      "/Users/iankwak/Documents/Bank_Marketing_ML/venv/lib/python3.9/site-packages/xgboost/core.py:158: UserWarning: [18:42:31] WARNING: /Users/runner/work/xgboost/xgboost/src/learner.cc:740: \n",
      "Parameters: { \"use_label_encoder\" } are not used.\n",
      "\n",
      "  warnings.warn(smsg, UserWarning)\n"
     ]
    },
    {
     "name": "stdout",
     "output_type": "stream",
     "text": [
      "[CV] END model__colsample_bytree=0.8, model__learning_rate=0.01, model__max_depth=7, model__n_estimators=100, model__subsample=1.0; total time=   1.4s\n",
      "[CV] END model__colsample_bytree=0.8, model__learning_rate=0.01, model__max_depth=7, model__n_estimators=100, model__subsample=1.0; total time=   1.4s\n",
      "[CV] END model__colsample_bytree=0.8, model__learning_rate=0.01, model__max_depth=7, model__n_estimators=100, model__subsample=1.0; total time=   1.3s\n"
     ]
    },
    {
     "name": "stderr",
     "output_type": "stream",
     "text": [
      "/Users/iankwak/Documents/Bank_Marketing_ML/venv/lib/python3.9/site-packages/xgboost/core.py:158: UserWarning: [18:42:31] WARNING: /Users/runner/work/xgboost/xgboost/src/learner.cc:740: \n",
      "Parameters: { \"use_label_encoder\" } are not used.\n",
      "\n",
      "  warnings.warn(smsg, UserWarning)\n",
      "/Users/iankwak/Documents/Bank_Marketing_ML/venv/lib/python3.9/site-packages/xgboost/core.py:158: UserWarning: [18:42:31] WARNING: /Users/runner/work/xgboost/xgboost/src/learner.cc:740: \n",
      "Parameters: { \"use_label_encoder\" } are not used.\n",
      "\n",
      "  warnings.warn(smsg, UserWarning)\n",
      "/Users/iankwak/Documents/Bank_Marketing_ML/venv/lib/python3.9/site-packages/xgboost/core.py:158: UserWarning: [18:42:31] WARNING: /Users/runner/work/xgboost/xgboost/src/learner.cc:740: \n",
      "Parameters: { \"use_label_encoder\" } are not used.\n",
      "\n",
      "  warnings.warn(smsg, UserWarning)\n",
      "/Users/iankwak/Documents/Bank_Marketing_ML/venv/lib/python3.9/site-packages/xgboost/core.py:158: UserWarning: [18:42:32] WARNING: /Users/runner/work/xgboost/xgboost/src/learner.cc:740: \n",
      "Parameters: { \"use_label_encoder\" } are not used.\n",
      "\n",
      "  warnings.warn(smsg, UserWarning)\n",
      "/Users/iankwak/Documents/Bank_Marketing_ML/venv/lib/python3.9/site-packages/xgboost/core.py:158: UserWarning: [18:42:32] WARNING: /Users/runner/work/xgboost/xgboost/src/learner.cc:740: \n",
      "Parameters: { \"use_label_encoder\" } are not used.\n",
      "\n",
      "  warnings.warn(smsg, UserWarning)\n"
     ]
    },
    {
     "name": "stdout",
     "output_type": "stream",
     "text": [
      "[CV] END model__colsample_bytree=0.8, model__learning_rate=0.01, model__max_depth=7, model__n_estimators=200, model__subsample=0.8; total time=   2.3s\n",
      "[CV] END model__colsample_bytree=0.8, model__learning_rate=0.01, model__max_depth=7, model__n_estimators=200, model__subsample=0.8; total time=   2.2s\n",
      "[CV] END model__colsample_bytree=0.8, model__learning_rate=0.01, model__max_depth=7, model__n_estimators=200, model__subsample=0.8; total time=   2.3s\n",
      "[CV] END model__colsample_bytree=0.8, model__learning_rate=0.01, model__max_depth=7, model__n_estimators=200, model__subsample=0.8; total time=   2.4s\n",
      "[CV] END model__colsample_bytree=0.8, model__learning_rate=0.01, model__max_depth=7, model__n_estimators=200, model__subsample=0.8; total time=   2.5s\n",
      "[CV] END model__colsample_bytree=0.8, model__learning_rate=0.01, model__max_depth=7, model__n_estimators=200, model__subsample=1.0; total time=   2.4s\n"
     ]
    },
    {
     "name": "stderr",
     "output_type": "stream",
     "text": [
      "/Users/iankwak/Documents/Bank_Marketing_ML/venv/lib/python3.9/site-packages/xgboost/core.py:158: UserWarning: [18:42:33] WARNING: /Users/runner/work/xgboost/xgboost/src/learner.cc:740: \n",
      "Parameters: { \"use_label_encoder\" } are not used.\n",
      "\n",
      "  warnings.warn(smsg, UserWarning)\n",
      "/Users/iankwak/Documents/Bank_Marketing_ML/venv/lib/python3.9/site-packages/xgboost/core.py:158: UserWarning: [18:42:33] WARNING: /Users/runner/work/xgboost/xgboost/src/learner.cc:740: \n",
      "Parameters: { \"use_label_encoder\" } are not used.\n",
      "\n",
      "  warnings.warn(smsg, UserWarning)\n",
      "/Users/iankwak/Documents/Bank_Marketing_ML/venv/lib/python3.9/site-packages/xgboost/core.py:158: UserWarning: [18:42:33] WARNING: /Users/runner/work/xgboost/xgboost/src/learner.cc:740: \n",
      "Parameters: { \"use_label_encoder\" } are not used.\n",
      "\n",
      "  warnings.warn(smsg, UserWarning)\n"
     ]
    },
    {
     "name": "stdout",
     "output_type": "stream",
     "text": [
      "[CV] END model__colsample_bytree=0.8, model__learning_rate=0.01, model__max_depth=7, model__n_estimators=200, model__subsample=1.0; total time=   2.5s\n",
      "[CV] END model__colsample_bytree=0.8, model__learning_rate=0.01, model__max_depth=7, model__n_estimators=200, model__subsample=1.0; total time=   2.6s\n"
     ]
    },
    {
     "name": "stderr",
     "output_type": "stream",
     "text": [
      "/Users/iankwak/Documents/Bank_Marketing_ML/venv/lib/python3.9/site-packages/xgboost/core.py:158: UserWarning: [18:42:34] WARNING: /Users/runner/work/xgboost/xgboost/src/learner.cc:740: \n",
      "Parameters: { \"use_label_encoder\" } are not used.\n",
      "\n",
      "  warnings.warn(smsg, UserWarning)\n",
      "/Users/iankwak/Documents/Bank_Marketing_ML/venv/lib/python3.9/site-packages/xgboost/core.py:158: UserWarning: [18:42:34] WARNING: /Users/runner/work/xgboost/xgboost/src/learner.cc:740: \n",
      "Parameters: { \"use_label_encoder\" } are not used.\n",
      "\n",
      "  warnings.warn(smsg, UserWarning)\n",
      "/Users/iankwak/Documents/Bank_Marketing_ML/venv/lib/python3.9/site-packages/xgboost/core.py:158: UserWarning: [18:42:34] WARNING: /Users/runner/work/xgboost/xgboost/src/learner.cc:740: \n",
      "Parameters: { \"use_label_encoder\" } are not used.\n",
      "\n",
      "  warnings.warn(smsg, UserWarning)\n",
      "/Users/iankwak/Documents/Bank_Marketing_ML/venv/lib/python3.9/site-packages/xgboost/core.py:158: UserWarning: [18:42:34] WARNING: /Users/runner/work/xgboost/xgboost/src/learner.cc:740: \n",
      "Parameters: { \"use_label_encoder\" } are not used.\n",
      "\n",
      "  warnings.warn(smsg, UserWarning)\n"
     ]
    },
    {
     "name": "stdout",
     "output_type": "stream",
     "text": [
      "[CV] END model__colsample_bytree=0.8, model__learning_rate=0.1, model__max_depth=3, model__n_estimators=100, model__subsample=0.8; total time=   1.3s\n",
      "[CV] END model__colsample_bytree=0.8, model__learning_rate=0.1, model__max_depth=3, model__n_estimators=100, model__subsample=0.8; total time=   1.1s\n",
      "[CV] END model__colsample_bytree=0.8, model__learning_rate=0.1, model__max_depth=3, model__n_estimators=100, model__subsample=0.8; total time=   1.0s\n",
      "[CV] END model__colsample_bytree=0.8, model__learning_rate=0.1, model__max_depth=3, model__n_estimators=100, model__subsample=0.8; total time=   1.1s\n"
     ]
    },
    {
     "name": "stderr",
     "output_type": "stream",
     "text": [
      "/Users/iankwak/Documents/Bank_Marketing_ML/venv/lib/python3.9/site-packages/xgboost/core.py:158: UserWarning: [18:42:34] WARNING: /Users/runner/work/xgboost/xgboost/src/learner.cc:740: \n",
      "Parameters: { \"use_label_encoder\" } are not used.\n",
      "\n",
      "  warnings.warn(smsg, UserWarning)\n",
      "/Users/iankwak/Documents/Bank_Marketing_ML/venv/lib/python3.9/site-packages/xgboost/core.py:158: UserWarning: [18:42:35] WARNING: /Users/runner/work/xgboost/xgboost/src/learner.cc:740: \n",
      "Parameters: { \"use_label_encoder\" } are not used.\n",
      "\n",
      "  warnings.warn(smsg, UserWarning)\n"
     ]
    },
    {
     "name": "stdout",
     "output_type": "stream",
     "text": [
      "[CV] END model__colsample_bytree=0.8, model__learning_rate=0.1, model__max_depth=3, model__n_estimators=100, model__subsample=0.8; total time=   1.1s\n"
     ]
    },
    {
     "name": "stderr",
     "output_type": "stream",
     "text": [
      "/Users/iankwak/Documents/Bank_Marketing_ML/venv/lib/python3.9/site-packages/xgboost/core.py:158: UserWarning: [18:42:35] WARNING: /Users/runner/work/xgboost/xgboost/src/learner.cc:740: \n",
      "Parameters: { \"use_label_encoder\" } are not used.\n",
      "\n",
      "  warnings.warn(smsg, UserWarning)\n"
     ]
    },
    {
     "name": "stdout",
     "output_type": "stream",
     "text": [
      "[CV] END model__colsample_bytree=0.8, model__learning_rate=0.1, model__max_depth=3, model__n_estimators=100, model__subsample=1.0; total time=   1.4s\n"
     ]
    },
    {
     "name": "stderr",
     "output_type": "stream",
     "text": [
      "/Users/iankwak/Documents/Bank_Marketing_ML/venv/lib/python3.9/site-packages/xgboost/core.py:158: UserWarning: [18:42:35] WARNING: /Users/runner/work/xgboost/xgboost/src/learner.cc:740: \n",
      "Parameters: { \"use_label_encoder\" } are not used.\n",
      "\n",
      "  warnings.warn(smsg, UserWarning)\n",
      "/Users/iankwak/Documents/Bank_Marketing_ML/venv/lib/python3.9/site-packages/xgboost/core.py:158: UserWarning: [18:42:35] WARNING: /Users/runner/work/xgboost/xgboost/src/learner.cc:740: \n",
      "Parameters: { \"use_label_encoder\" } are not used.\n",
      "\n",
      "  warnings.warn(smsg, UserWarning)\n",
      "/Users/iankwak/Documents/Bank_Marketing_ML/venv/lib/python3.9/site-packages/xgboost/core.py:158: UserWarning: [18:42:35] WARNING: /Users/runner/work/xgboost/xgboost/src/learner.cc:740: \n",
      "Parameters: { \"use_label_encoder\" } are not used.\n",
      "\n",
      "  warnings.warn(smsg, UserWarning)\n"
     ]
    },
    {
     "name": "stdout",
     "output_type": "stream",
     "text": [
      "[CV] END model__colsample_bytree=0.8, model__learning_rate=0.1, model__max_depth=3, model__n_estimators=100, model__subsample=1.0; total time=   1.4s\n",
      "[CV] END model__colsample_bytree=0.8, model__learning_rate=0.1, model__max_depth=3, model__n_estimators=100, model__subsample=1.0; total time=   1.3s\n",
      "[CV] END model__colsample_bytree=0.8, model__learning_rate=0.01, model__max_depth=7, model__n_estimators=200, model__subsample=1.0; total time=   3.0s\n",
      "[CV] END model__colsample_bytree=0.8, model__learning_rate=0.01, model__max_depth=7, model__n_estimators=200, model__subsample=1.0; total time=   3.0s\n",
      "[CV] END model__colsample_bytree=0.8, model__learning_rate=0.1, model__max_depth=3, model__n_estimators=100, model__subsample=1.0; total time=   1.2s\n",
      "[CV] END model__colsample_bytree=0.8, model__learning_rate=0.1, model__max_depth=3, model__n_estimators=100, model__subsample=1.0; total time=   1.3s\n"
     ]
    },
    {
     "name": "stderr",
     "output_type": "stream",
     "text": [
      "/Users/iankwak/Documents/Bank_Marketing_ML/venv/lib/python3.9/site-packages/xgboost/core.py:158: UserWarning: [18:42:36] WARNING: /Users/runner/work/xgboost/xgboost/src/learner.cc:740: \n",
      "Parameters: { \"use_label_encoder\" } are not used.\n",
      "\n",
      "  warnings.warn(smsg, UserWarning)\n",
      "/Users/iankwak/Documents/Bank_Marketing_ML/venv/lib/python3.9/site-packages/xgboost/core.py:158: UserWarning: [18:42:36] WARNING: /Users/runner/work/xgboost/xgboost/src/learner.cc:740: \n",
      "Parameters: { \"use_label_encoder\" } are not used.\n",
      "\n",
      "  warnings.warn(smsg, UserWarning)\n",
      "/Users/iankwak/Documents/Bank_Marketing_ML/venv/lib/python3.9/site-packages/xgboost/core.py:158: UserWarning: [18:42:36] WARNING: /Users/runner/work/xgboost/xgboost/src/learner.cc:740: \n",
      "Parameters: { \"use_label_encoder\" } are not used.\n",
      "\n",
      "  warnings.warn(smsg, UserWarning)\n",
      "/Users/iankwak/Documents/Bank_Marketing_ML/venv/lib/python3.9/site-packages/xgboost/core.py:158: UserWarning: [18:42:36] WARNING: /Users/runner/work/xgboost/xgboost/src/learner.cc:740: \n",
      "Parameters: { \"use_label_encoder\" } are not used.\n",
      "\n",
      "  warnings.warn(smsg, UserWarning)\n",
      "/Users/iankwak/Documents/Bank_Marketing_ML/venv/lib/python3.9/site-packages/xgboost/core.py:158: UserWarning: [18:42:36] WARNING: /Users/runner/work/xgboost/xgboost/src/learner.cc:740: \n",
      "Parameters: { \"use_label_encoder\" } are not used.\n",
      "\n",
      "  warnings.warn(smsg, UserWarning)\n",
      "/Users/iankwak/Documents/Bank_Marketing_ML/venv/lib/python3.9/site-packages/xgboost/core.py:158: UserWarning: [18:42:36] WARNING: /Users/runner/work/xgboost/xgboost/src/learner.cc:740: \n",
      "Parameters: { \"use_label_encoder\" } are not used.\n",
      "\n",
      "  warnings.warn(smsg, UserWarning)\n",
      "/Users/iankwak/Documents/Bank_Marketing_ML/venv/lib/python3.9/site-packages/xgboost/core.py:158: UserWarning: [18:42:37] WARNING: /Users/runner/work/xgboost/xgboost/src/learner.cc:740: \n",
      "Parameters: { \"use_label_encoder\" } are not used.\n",
      "\n",
      "  warnings.warn(smsg, UserWarning)\n"
     ]
    },
    {
     "name": "stdout",
     "output_type": "stream",
     "text": [
      "[CV] END model__colsample_bytree=0.8, model__learning_rate=0.1, model__max_depth=3, model__n_estimators=200, model__subsample=0.8; total time=   1.8s\n",
      "[CV] END model__colsample_bytree=0.8, model__learning_rate=0.1, model__max_depth=3, model__n_estimators=200, model__subsample=0.8; total time=   1.6s\n"
     ]
    },
    {
     "name": "stderr",
     "output_type": "stream",
     "text": [
      "/Users/iankwak/Documents/Bank_Marketing_ML/venv/lib/python3.9/site-packages/xgboost/core.py:158: UserWarning: [18:42:37] WARNING: /Users/runner/work/xgboost/xgboost/src/learner.cc:740: \n",
      "Parameters: { \"use_label_encoder\" } are not used.\n",
      "\n",
      "  warnings.warn(smsg, UserWarning)\n"
     ]
    },
    {
     "name": "stdout",
     "output_type": "stream",
     "text": [
      "[CV] END model__colsample_bytree=0.8, model__learning_rate=0.1, model__max_depth=3, model__n_estimators=200, model__subsample=0.8; total time=   1.6s\n",
      "[CV] END model__colsample_bytree=0.8, model__learning_rate=0.1, model__max_depth=3, model__n_estimators=200, model__subsample=1.0; total time=   1.4s\n",
      "[CV] END model__colsample_bytree=0.8, model__learning_rate=0.1, model__max_depth=3, model__n_estimators=200, model__subsample=1.0; total time=   1.4s\n",
      "[CV] END model__colsample_bytree=0.8, model__learning_rate=0.1, model__max_depth=3, model__n_estimators=200, model__subsample=0.8; total time=   1.7s\n"
     ]
    },
    {
     "name": "stderr",
     "output_type": "stream",
     "text": [
      "/Users/iankwak/Documents/Bank_Marketing_ML/venv/lib/python3.9/site-packages/xgboost/core.py:158: UserWarning: [18:42:37] WARNING: /Users/runner/work/xgboost/xgboost/src/learner.cc:740: \n",
      "Parameters: { \"use_label_encoder\" } are not used.\n",
      "\n",
      "  warnings.warn(smsg, UserWarning)\n"
     ]
    },
    {
     "name": "stdout",
     "output_type": "stream",
     "text": [
      "[CV] END model__colsample_bytree=0.8, model__learning_rate=0.1, model__max_depth=3, model__n_estimators=200, model__subsample=1.0; total time=   1.3s\n",
      "[CV] END model__colsample_bytree=0.8, model__learning_rate=0.1, model__max_depth=3, model__n_estimators=200, model__subsample=0.8; total time=   1.7s\n"
     ]
    },
    {
     "name": "stderr",
     "output_type": "stream",
     "text": [
      "/Users/iankwak/Documents/Bank_Marketing_ML/venv/lib/python3.9/site-packages/xgboost/core.py:158: UserWarning: [18:42:38] WARNING: /Users/runner/work/xgboost/xgboost/src/learner.cc:740: \n",
      "Parameters: { \"use_label_encoder\" } are not used.\n",
      "\n",
      "  warnings.warn(smsg, UserWarning)\n",
      "/Users/iankwak/Documents/Bank_Marketing_ML/venv/lib/python3.9/site-packages/xgboost/core.py:158: UserWarning: [18:42:38] WARNING: /Users/runner/work/xgboost/xgboost/src/learner.cc:740: \n",
      "Parameters: { \"use_label_encoder\" } are not used.\n",
      "\n",
      "  warnings.warn(smsg, UserWarning)\n",
      "/Users/iankwak/Documents/Bank_Marketing_ML/venv/lib/python3.9/site-packages/xgboost/core.py:158: UserWarning: [18:42:38] WARNING: /Users/runner/work/xgboost/xgboost/src/learner.cc:740: \n",
      "Parameters: { \"use_label_encoder\" } are not used.\n",
      "\n",
      "  warnings.warn(smsg, UserWarning)\n",
      "/Users/iankwak/Documents/Bank_Marketing_ML/venv/lib/python3.9/site-packages/xgboost/core.py:158: UserWarning: [18:42:38] WARNING: /Users/runner/work/xgboost/xgboost/src/learner.cc:740: \n",
      "Parameters: { \"use_label_encoder\" } are not used.\n",
      "\n",
      "  warnings.warn(smsg, UserWarning)\n",
      "/Users/iankwak/Documents/Bank_Marketing_ML/venv/lib/python3.9/site-packages/xgboost/core.py:158: UserWarning: [18:42:38] WARNING: /Users/runner/work/xgboost/xgboost/src/learner.cc:740: \n",
      "Parameters: { \"use_label_encoder\" } are not used.\n",
      "\n",
      "  warnings.warn(smsg, UserWarning)\n",
      "/Users/iankwak/Documents/Bank_Marketing_ML/venv/lib/python3.9/site-packages/xgboost/core.py:158: UserWarning: [18:42:38] WARNING: /Users/runner/work/xgboost/xgboost/src/learner.cc:740: \n",
      "Parameters: { \"use_label_encoder\" } are not used.\n",
      "\n",
      "  warnings.warn(smsg, UserWarning)\n"
     ]
    },
    {
     "name": "stdout",
     "output_type": "stream",
     "text": [
      "[CV] END model__colsample_bytree=0.8, model__learning_rate=0.1, model__max_depth=3, model__n_estimators=200, model__subsample=1.0; total time=   1.4s\n",
      "[CV] END model__colsample_bytree=0.8, model__learning_rate=0.1, model__max_depth=3, model__n_estimators=200, model__subsample=1.0; total time=   1.4s\n",
      "[CV] END model__colsample_bytree=0.8, model__learning_rate=0.1, model__max_depth=5, model__n_estimators=100, model__subsample=0.8; total time=   1.2s\n"
     ]
    },
    {
     "name": "stderr",
     "output_type": "stream",
     "text": [
      "/Users/iankwak/Documents/Bank_Marketing_ML/venv/lib/python3.9/site-packages/xgboost/core.py:158: UserWarning: [18:42:39] WARNING: /Users/runner/work/xgboost/xgboost/src/learner.cc:740: \n",
      "Parameters: { \"use_label_encoder\" } are not used.\n",
      "\n",
      "  warnings.warn(smsg, UserWarning)\n"
     ]
    },
    {
     "name": "stdout",
     "output_type": "stream",
     "text": [
      "[CV] END model__colsample_bytree=0.8, model__learning_rate=0.1, model__max_depth=5, model__n_estimators=100, model__subsample=0.8; total time=   1.3s\n",
      "[CV] END model__colsample_bytree=0.8, model__learning_rate=0.1, model__max_depth=5, model__n_estimators=100, model__subsample=1.0; total time=   1.2s\n",
      "[CV] END model__colsample_bytree=0.8, model__learning_rate=0.1, model__max_depth=5, model__n_estimators=100, model__subsample=0.8; total time=   1.3s\n",
      "[CV] END model__colsample_bytree=0.8, model__learning_rate=0.1, model__max_depth=5, model__n_estimators=100, model__subsample=0.8; total time=   1.3s\n",
      "[CV] END model__colsample_bytree=0.8, model__learning_rate=0.1, model__max_depth=5, model__n_estimators=100, model__subsample=0.8; total time=   1.3s\n"
     ]
    },
    {
     "name": "stderr",
     "output_type": "stream",
     "text": [
      "/Users/iankwak/Documents/Bank_Marketing_ML/venv/lib/python3.9/site-packages/xgboost/core.py:158: UserWarning: [18:42:39] WARNING: /Users/runner/work/xgboost/xgboost/src/learner.cc:740: \n",
      "Parameters: { \"use_label_encoder\" } are not used.\n",
      "\n",
      "  warnings.warn(smsg, UserWarning)\n",
      "/Users/iankwak/Documents/Bank_Marketing_ML/venv/lib/python3.9/site-packages/xgboost/core.py:158: UserWarning: [18:42:39] WARNING: /Users/runner/work/xgboost/xgboost/src/learner.cc:740: \n",
      "Parameters: { \"use_label_encoder\" } are not used.\n",
      "\n",
      "  warnings.warn(smsg, UserWarning)\n",
      "/Users/iankwak/Documents/Bank_Marketing_ML/venv/lib/python3.9/site-packages/xgboost/core.py:158: UserWarning: [18:42:39] WARNING: /Users/runner/work/xgboost/xgboost/src/learner.cc:740: \n",
      "Parameters: { \"use_label_encoder\" } are not used.\n",
      "\n",
      "  warnings.warn(smsg, UserWarning)\n",
      "/Users/iankwak/Documents/Bank_Marketing_ML/venv/lib/python3.9/site-packages/xgboost/core.py:158: UserWarning: [18:42:39] WARNING: /Users/runner/work/xgboost/xgboost/src/learner.cc:740: \n",
      "Parameters: { \"use_label_encoder\" } are not used.\n",
      "\n",
      "  warnings.warn(smsg, UserWarning)\n",
      "/Users/iankwak/Documents/Bank_Marketing_ML/venv/lib/python3.9/site-packages/xgboost/core.py:158: UserWarning: [18:42:39] WARNING: /Users/runner/work/xgboost/xgboost/src/learner.cc:740: \n",
      "Parameters: { \"use_label_encoder\" } are not used.\n",
      "\n",
      "  warnings.warn(smsg, UserWarning)\n",
      "/Users/iankwak/Documents/Bank_Marketing_ML/venv/lib/python3.9/site-packages/xgboost/core.py:158: UserWarning: [18:42:39] WARNING: /Users/runner/work/xgboost/xgboost/src/learner.cc:740: \n",
      "Parameters: { \"use_label_encoder\" } are not used.\n",
      "\n",
      "  warnings.warn(smsg, UserWarning)\n"
     ]
    },
    {
     "name": "stdout",
     "output_type": "stream",
     "text": [
      "[CV] END model__colsample_bytree=0.8, model__learning_rate=0.1, model__max_depth=5, model__n_estimators=100, model__subsample=1.0; total time=   1.1s\n"
     ]
    },
    {
     "name": "stderr",
     "output_type": "stream",
     "text": [
      "/Users/iankwak/Documents/Bank_Marketing_ML/venv/lib/python3.9/site-packages/xgboost/core.py:158: UserWarning: [18:42:39] WARNING: /Users/runner/work/xgboost/xgboost/src/learner.cc:740: \n",
      "Parameters: { \"use_label_encoder\" } are not used.\n",
      "\n",
      "  warnings.warn(smsg, UserWarning)\n"
     ]
    },
    {
     "name": "stdout",
     "output_type": "stream",
     "text": [
      "[CV] END model__colsample_bytree=0.8, model__learning_rate=0.1, model__max_depth=5, model__n_estimators=100, model__subsample=1.0; total time=   1.2s\n",
      "[CV] END model__colsample_bytree=0.8, model__learning_rate=0.1, model__max_depth=5, model__n_estimators=100, model__subsample=1.0; total time=   1.2s\n",
      "[CV] END model__colsample_bytree=0.8, model__learning_rate=0.1, model__max_depth=5, model__n_estimators=100, model__subsample=1.0; total time=   1.0s\n"
     ]
    },
    {
     "name": "stderr",
     "output_type": "stream",
     "text": [
      "/Users/iankwak/Documents/Bank_Marketing_ML/venv/lib/python3.9/site-packages/xgboost/core.py:158: UserWarning: [18:42:40] WARNING: /Users/runner/work/xgboost/xgboost/src/learner.cc:740: \n",
      "Parameters: { \"use_label_encoder\" } are not used.\n",
      "\n",
      "  warnings.warn(smsg, UserWarning)\n",
      "/Users/iankwak/Documents/Bank_Marketing_ML/venv/lib/python3.9/site-packages/xgboost/core.py:158: UserWarning: [18:42:40] WARNING: /Users/runner/work/xgboost/xgboost/src/learner.cc:740: \n",
      "Parameters: { \"use_label_encoder\" } are not used.\n",
      "\n",
      "  warnings.warn(smsg, UserWarning)\n",
      "/Users/iankwak/Documents/Bank_Marketing_ML/venv/lib/python3.9/site-packages/xgboost/core.py:158: UserWarning: [18:42:40] WARNING: /Users/runner/work/xgboost/xgboost/src/learner.cc:740: \n",
      "Parameters: { \"use_label_encoder\" } are not used.\n",
      "\n",
      "  warnings.warn(smsg, UserWarning)\n",
      "/Users/iankwak/Documents/Bank_Marketing_ML/venv/lib/python3.9/site-packages/xgboost/core.py:158: UserWarning: [18:42:41] WARNING: /Users/runner/work/xgboost/xgboost/src/learner.cc:740: \n",
      "Parameters: { \"use_label_encoder\" } are not used.\n",
      "\n",
      "  warnings.warn(smsg, UserWarning)\n"
     ]
    },
    {
     "name": "stdout",
     "output_type": "stream",
     "text": [
      "[CV] END model__colsample_bytree=0.8, model__learning_rate=0.1, model__max_depth=5, model__n_estimators=200, model__subsample=0.8; total time=   1.8s\n",
      "[CV] END model__colsample_bytree=0.8, model__learning_rate=0.1, model__max_depth=5, model__n_estimators=200, model__subsample=0.8; total time=   1.9s\n",
      "[CV] END model__colsample_bytree=0.8, model__learning_rate=0.1, model__max_depth=5, model__n_estimators=200, model__subsample=0.8; total time=   1.9s\n",
      "[CV] END model__colsample_bytree=0.8, model__learning_rate=0.1, model__max_depth=5, model__n_estimators=200, model__subsample=0.8; total time=   1.9s\n"
     ]
    },
    {
     "name": "stderr",
     "output_type": "stream",
     "text": [
      "/Users/iankwak/Documents/Bank_Marketing_ML/venv/lib/python3.9/site-packages/xgboost/core.py:158: UserWarning: [18:42:41] WARNING: /Users/runner/work/xgboost/xgboost/src/learner.cc:740: \n",
      "Parameters: { \"use_label_encoder\" } are not used.\n",
      "\n",
      "  warnings.warn(smsg, UserWarning)\n",
      "/Users/iankwak/Documents/Bank_Marketing_ML/venv/lib/python3.9/site-packages/xgboost/core.py:158: UserWarning: [18:42:41] WARNING: /Users/runner/work/xgboost/xgboost/src/learner.cc:740: \n",
      "Parameters: { \"use_label_encoder\" } are not used.\n",
      "\n",
      "  warnings.warn(smsg, UserWarning)\n",
      "/Users/iankwak/Documents/Bank_Marketing_ML/venv/lib/python3.9/site-packages/xgboost/core.py:158: UserWarning: [18:42:41] WARNING: /Users/runner/work/xgboost/xgboost/src/learner.cc:740: \n",
      "Parameters: { \"use_label_encoder\" } are not used.\n",
      "\n",
      "  warnings.warn(smsg, UserWarning)\n"
     ]
    },
    {
     "name": "stdout",
     "output_type": "stream",
     "text": [
      "[CV] END model__colsample_bytree=0.8, model__learning_rate=0.1, model__max_depth=5, model__n_estimators=200, model__subsample=0.8; total time=   2.0s\n",
      "[CV] END model__colsample_bytree=0.8, model__learning_rate=0.1, model__max_depth=5, model__n_estimators=200, model__subsample=1.0; total time=   1.7s\n",
      "[CV] END model__colsample_bytree=0.8, model__learning_rate=0.1, model__max_depth=5, model__n_estimators=200, model__subsample=1.0; total time=   1.8s\n"
     ]
    },
    {
     "name": "stderr",
     "output_type": "stream",
     "text": [
      "/Users/iankwak/Documents/Bank_Marketing_ML/venv/lib/python3.9/site-packages/xgboost/core.py:158: UserWarning: [18:42:41] WARNING: /Users/runner/work/xgboost/xgboost/src/learner.cc:740: \n",
      "Parameters: { \"use_label_encoder\" } are not used.\n",
      "\n",
      "  warnings.warn(smsg, UserWarning)\n"
     ]
    },
    {
     "name": "stdout",
     "output_type": "stream",
     "text": [
      "[CV] END model__colsample_bytree=0.8, model__learning_rate=0.1, model__max_depth=5, model__n_estimators=200, model__subsample=1.0; total time=   1.8s\n"
     ]
    },
    {
     "name": "stderr",
     "output_type": "stream",
     "text": [
      "/Users/iankwak/Documents/Bank_Marketing_ML/venv/lib/python3.9/site-packages/xgboost/core.py:158: UserWarning: [18:42:42] WARNING: /Users/runner/work/xgboost/xgboost/src/learner.cc:740: \n",
      "Parameters: { \"use_label_encoder\" } are not used.\n",
      "\n",
      "  warnings.warn(smsg, UserWarning)\n",
      "/Users/iankwak/Documents/Bank_Marketing_ML/venv/lib/python3.9/site-packages/xgboost/core.py:158: UserWarning: [18:42:42] WARNING: /Users/runner/work/xgboost/xgboost/src/learner.cc:740: \n",
      "Parameters: { \"use_label_encoder\" } are not used.\n",
      "\n",
      "  warnings.warn(smsg, UserWarning)\n",
      "/Users/iankwak/Documents/Bank_Marketing_ML/venv/lib/python3.9/site-packages/xgboost/core.py:158: UserWarning: [18:42:42] WARNING: /Users/runner/work/xgboost/xgboost/src/learner.cc:740: \n",
      "Parameters: { \"use_label_encoder\" } are not used.\n",
      "\n",
      "  warnings.warn(smsg, UserWarning)\n"
     ]
    },
    {
     "name": "stdout",
     "output_type": "stream",
     "text": [
      "[CV] END model__colsample_bytree=0.8, model__learning_rate=0.1, model__max_depth=7, model__n_estimators=100, model__subsample=0.8; total time=   1.5s\n",
      "[CV] END model__colsample_bytree=0.8, model__learning_rate=0.1, model__max_depth=7, model__n_estimators=100, model__subsample=0.8; total time=   1.4s\n",
      "[CV] END model__colsample_bytree=0.8, model__learning_rate=0.1, model__max_depth=5, model__n_estimators=200, model__subsample=1.0; total time=   1.8s\n",
      "[CV] END model__colsample_bytree=0.8, model__learning_rate=0.1, model__max_depth=5, model__n_estimators=200, model__subsample=1.0; total time=   1.8s\n"
     ]
    },
    {
     "name": "stderr",
     "output_type": "stream",
     "text": [
      "/Users/iankwak/Documents/Bank_Marketing_ML/venv/lib/python3.9/site-packages/xgboost/core.py:158: UserWarning: [18:42:43] WARNING: /Users/runner/work/xgboost/xgboost/src/learner.cc:740: \n",
      "Parameters: { \"use_label_encoder\" } are not used.\n",
      "\n",
      "  warnings.warn(smsg, UserWarning)\n"
     ]
    },
    {
     "name": "stdout",
     "output_type": "stream",
     "text": [
      "[CV] END model__colsample_bytree=0.8, model__learning_rate=0.1, model__max_depth=7, model__n_estimators=100, model__subsample=0.8; total time=   1.3s\n",
      "[CV] END model__colsample_bytree=0.8, model__learning_rate=0.1, model__max_depth=7, model__n_estimators=100, model__subsample=0.8; total time=   1.3s\n",
      "[CV] END model__colsample_bytree=0.8, model__learning_rate=0.1, model__max_depth=7, model__n_estimators=100, model__subsample=0.8; total time=   1.5s\n"
     ]
    },
    {
     "name": "stderr",
     "output_type": "stream",
     "text": [
      "/Users/iankwak/Documents/Bank_Marketing_ML/venv/lib/python3.9/site-packages/xgboost/core.py:158: UserWarning: [18:42:43] WARNING: /Users/runner/work/xgboost/xgboost/src/learner.cc:740: \n",
      "Parameters: { \"use_label_encoder\" } are not used.\n",
      "\n",
      "  warnings.warn(smsg, UserWarning)\n",
      "/Users/iankwak/Documents/Bank_Marketing_ML/venv/lib/python3.9/site-packages/xgboost/core.py:158: UserWarning: [18:42:43] WARNING: /Users/runner/work/xgboost/xgboost/src/learner.cc:740: \n",
      "Parameters: { \"use_label_encoder\" } are not used.\n",
      "\n",
      "  warnings.warn(smsg, UserWarning)\n",
      "/Users/iankwak/Documents/Bank_Marketing_ML/venv/lib/python3.9/site-packages/xgboost/core.py:158: UserWarning: [18:42:43] WARNING: /Users/runner/work/xgboost/xgboost/src/learner.cc:740: \n",
      "Parameters: { \"use_label_encoder\" } are not used.\n",
      "\n",
      "  warnings.warn(smsg, UserWarning)\n",
      "/Users/iankwak/Documents/Bank_Marketing_ML/venv/lib/python3.9/site-packages/xgboost/core.py:158: UserWarning: [18:42:43] WARNING: /Users/runner/work/xgboost/xgboost/src/learner.cc:740: \n",
      "Parameters: { \"use_label_encoder\" } are not used.\n",
      "\n",
      "  warnings.warn(smsg, UserWarning)\n",
      "/Users/iankwak/Documents/Bank_Marketing_ML/venv/lib/python3.9/site-packages/xgboost/core.py:158: UserWarning: [18:42:43] WARNING: /Users/runner/work/xgboost/xgboost/src/learner.cc:740: \n",
      "Parameters: { \"use_label_encoder\" } are not used.\n",
      "\n",
      "  warnings.warn(smsg, UserWarning)\n",
      "/Users/iankwak/Documents/Bank_Marketing_ML/venv/lib/python3.9/site-packages/xgboost/core.py:158: UserWarning: [18:42:43] WARNING: /Users/runner/work/xgboost/xgboost/src/learner.cc:740: \n",
      "Parameters: { \"use_label_encoder\" } are not used.\n",
      "\n",
      "  warnings.warn(smsg, UserWarning)\n",
      "/Users/iankwak/Documents/Bank_Marketing_ML/venv/lib/python3.9/site-packages/xgboost/core.py:158: UserWarning: [18:42:44] WARNING: /Users/runner/work/xgboost/xgboost/src/learner.cc:740: \n",
      "Parameters: { \"use_label_encoder\" } are not used.\n",
      "\n",
      "  warnings.warn(smsg, UserWarning)\n"
     ]
    },
    {
     "name": "stdout",
     "output_type": "stream",
     "text": [
      "[CV] END model__colsample_bytree=0.8, model__learning_rate=0.1, model__max_depth=7, model__n_estimators=100, model__subsample=1.0; total time=   1.9s\n",
      "[CV] END model__colsample_bytree=0.8, model__learning_rate=0.1, model__max_depth=7, model__n_estimators=100, model__subsample=1.0; total time=   1.3s\n",
      "[CV] END model__colsample_bytree=0.8, model__learning_rate=0.1, model__max_depth=7, model__n_estimators=100, model__subsample=1.0; total time=   1.5s\n",
      "[CV] END model__colsample_bytree=0.8, model__learning_rate=0.1, model__max_depth=7, model__n_estimators=100, model__subsample=1.0; total time=   1.5s\n",
      "[CV] END model__colsample_bytree=0.8, model__learning_rate=0.1, model__max_depth=7, model__n_estimators=100, model__subsample=1.0; total time=   1.5s\n"
     ]
    },
    {
     "name": "stderr",
     "output_type": "stream",
     "text": [
      "/Users/iankwak/Documents/Bank_Marketing_ML/venv/lib/python3.9/site-packages/xgboost/core.py:158: UserWarning: [18:42:44] WARNING: /Users/runner/work/xgboost/xgboost/src/learner.cc:740: \n",
      "Parameters: { \"use_label_encoder\" } are not used.\n",
      "\n",
      "  warnings.warn(smsg, UserWarning)\n",
      "/Users/iankwak/Documents/Bank_Marketing_ML/venv/lib/python3.9/site-packages/xgboost/core.py:158: UserWarning: [18:42:45] WARNING: /Users/runner/work/xgboost/xgboost/src/learner.cc:740: \n",
      "Parameters: { \"use_label_encoder\" } are not used.\n",
      "\n",
      "  warnings.warn(smsg, UserWarning)\n",
      "/Users/iankwak/Documents/Bank_Marketing_ML/venv/lib/python3.9/site-packages/xgboost/core.py:158: UserWarning: [18:42:45] WARNING: /Users/runner/work/xgboost/xgboost/src/learner.cc:740: \n",
      "Parameters: { \"use_label_encoder\" } are not used.\n",
      "\n",
      "  warnings.warn(smsg, UserWarning)\n",
      "/Users/iankwak/Documents/Bank_Marketing_ML/venv/lib/python3.9/site-packages/xgboost/core.py:158: UserWarning: [18:42:45] WARNING: /Users/runner/work/xgboost/xgboost/src/learner.cc:740: \n",
      "Parameters: { \"use_label_encoder\" } are not used.\n",
      "\n",
      "  warnings.warn(smsg, UserWarning)\n",
      "/Users/iankwak/Documents/Bank_Marketing_ML/venv/lib/python3.9/site-packages/xgboost/core.py:158: UserWarning: [18:42:45] WARNING: /Users/runner/work/xgboost/xgboost/src/learner.cc:740: \n",
      "Parameters: { \"use_label_encoder\" } are not used.\n",
      "\n",
      "  warnings.warn(smsg, UserWarning)\n"
     ]
    },
    {
     "name": "stdout",
     "output_type": "stream",
     "text": [
      "[CV] END model__colsample_bytree=0.8, model__learning_rate=0.1, model__max_depth=7, model__n_estimators=200, model__subsample=0.8; total time=   2.5s\n",
      "[CV] END model__colsample_bytree=0.8, model__learning_rate=0.1, model__max_depth=7, model__n_estimators=200, model__subsample=0.8; total time=   2.4s\n",
      "[CV] END model__colsample_bytree=0.8, model__learning_rate=0.1, model__max_depth=7, model__n_estimators=200, model__subsample=0.8; total time=   2.4s\n"
     ]
    },
    {
     "name": "stderr",
     "output_type": "stream",
     "text": [
      "/Users/iankwak/Documents/Bank_Marketing_ML/venv/lib/python3.9/site-packages/xgboost/core.py:158: UserWarning: [18:42:46] WARNING: /Users/runner/work/xgboost/xgboost/src/learner.cc:740: \n",
      "Parameters: { \"use_label_encoder\" } are not used.\n",
      "\n",
      "  warnings.warn(smsg, UserWarning)\n",
      "/Users/iankwak/Documents/Bank_Marketing_ML/venv/lib/python3.9/site-packages/xgboost/core.py:158: UserWarning: [18:42:46] WARNING: /Users/runner/work/xgboost/xgboost/src/learner.cc:740: \n",
      "Parameters: { \"use_label_encoder\" } are not used.\n",
      "\n",
      "  warnings.warn(smsg, UserWarning)\n",
      "/Users/iankwak/Documents/Bank_Marketing_ML/venv/lib/python3.9/site-packages/xgboost/core.py:158: UserWarning: [18:42:46] WARNING: /Users/runner/work/xgboost/xgboost/src/learner.cc:740: \n",
      "Parameters: { \"use_label_encoder\" } are not used.\n",
      "\n",
      "  warnings.warn(smsg, UserWarning)\n"
     ]
    },
    {
     "name": "stdout",
     "output_type": "stream",
     "text": [
      "[CV] END model__colsample_bytree=0.8, model__learning_rate=0.1, model__max_depth=7, model__n_estimators=200, model__subsample=0.8; total time=   2.4s\n",
      "[CV] END model__colsample_bytree=0.8, model__learning_rate=0.1, model__max_depth=7, model__n_estimators=200, model__subsample=1.0; total time=   2.3s\n",
      "[CV] END model__colsample_bytree=0.8, model__learning_rate=0.1, model__max_depth=7, model__n_estimators=200, model__subsample=0.8; total time=   2.4s\n",
      "[CV] END model__colsample_bytree=1.0, model__learning_rate=0.01, model__max_depth=3, model__n_estimators=100, model__subsample=0.8; total time=   1.0s\n",
      "[CV] END model__colsample_bytree=0.8, model__learning_rate=0.1, model__max_depth=7, model__n_estimators=200, model__subsample=1.0; total time=   2.2s\n",
      "[CV] END model__colsample_bytree=0.8, model__learning_rate=0.1, model__max_depth=7, model__n_estimators=200, model__subsample=1.0; total time=   2.2s\n"
     ]
    },
    {
     "name": "stderr",
     "output_type": "stream",
     "text": [
      "/Users/iankwak/Documents/Bank_Marketing_ML/venv/lib/python3.9/site-packages/xgboost/core.py:158: UserWarning: [18:42:47] WARNING: /Users/runner/work/xgboost/xgboost/src/learner.cc:740: \n",
      "Parameters: { \"use_label_encoder\" } are not used.\n",
      "\n",
      "  warnings.warn(smsg, UserWarning)\n",
      "/Users/iankwak/Documents/Bank_Marketing_ML/venv/lib/python3.9/site-packages/xgboost/core.py:158: UserWarning: [18:42:47] WARNING: /Users/runner/work/xgboost/xgboost/src/learner.cc:740: \n",
      "Parameters: { \"use_label_encoder\" } are not used.\n",
      "\n",
      "  warnings.warn(smsg, UserWarning)\n",
      "/Users/iankwak/Documents/Bank_Marketing_ML/venv/lib/python3.9/site-packages/xgboost/core.py:158: UserWarning: [18:42:47] WARNING: /Users/runner/work/xgboost/xgboost/src/learner.cc:740: \n",
      "Parameters: { \"use_label_encoder\" } are not used.\n",
      "\n",
      "  warnings.warn(smsg, UserWarning)\n",
      "/Users/iankwak/Documents/Bank_Marketing_ML/venv/lib/python3.9/site-packages/xgboost/core.py:158: UserWarning: [18:42:47] WARNING: /Users/runner/work/xgboost/xgboost/src/learner.cc:740: \n",
      "Parameters: { \"use_label_encoder\" } are not used.\n",
      "\n",
      "  warnings.warn(smsg, UserWarning)\n",
      "/Users/iankwak/Documents/Bank_Marketing_ML/venv/lib/python3.9/site-packages/xgboost/core.py:158: UserWarning: [18:42:47] WARNING: /Users/runner/work/xgboost/xgboost/src/learner.cc:740: \n",
      "Parameters: { \"use_label_encoder\" } are not used.\n",
      "\n",
      "  warnings.warn(smsg, UserWarning)\n",
      "/Users/iankwak/Documents/Bank_Marketing_ML/venv/lib/python3.9/site-packages/xgboost/core.py:158: UserWarning: [18:42:47] WARNING: /Users/runner/work/xgboost/xgboost/src/learner.cc:740: \n",
      "Parameters: { \"use_label_encoder\" } are not used.\n",
      "\n",
      "  warnings.warn(smsg, UserWarning)\n"
     ]
    },
    {
     "name": "stdout",
     "output_type": "stream",
     "text": [
      "[CV] END model__colsample_bytree=1.0, model__learning_rate=0.01, model__max_depth=3, model__n_estimators=100, model__subsample=0.8; total time=   1.0s\n",
      "[CV] END model__colsample_bytree=1.0, model__learning_rate=0.01, model__max_depth=3, model__n_estimators=100, model__subsample=0.8; total time=   1.0s\n",
      "[CV] END model__colsample_bytree=1.0, model__learning_rate=0.01, model__max_depth=3, model__n_estimators=100, model__subsample=0.8; total time=   1.0s\n",
      "[CV] END model__colsample_bytree=0.8, model__learning_rate=0.1, model__max_depth=7, model__n_estimators=200, model__subsample=1.0; total time=   2.1s\n",
      "[CV] END model__colsample_bytree=1.0, model__learning_rate=0.01, model__max_depth=3, model__n_estimators=100, model__subsample=1.0; total time=   1.0s\n",
      "[CV] END model__colsample_bytree=1.0, model__learning_rate=0.01, model__max_depth=3, model__n_estimators=100, model__subsample=0.8; total time=   1.1s\n",
      "[CV] END model__colsample_bytree=1.0, model__learning_rate=0.01, model__max_depth=3, model__n_estimators=100, model__subsample=1.0; total time=   1.0s\n",
      "[CV] END model__colsample_bytree=0.8, model__learning_rate=0.1, model__max_depth=7, model__n_estimators=200, model__subsample=1.0; total time=   2.2s\n"
     ]
    },
    {
     "name": "stderr",
     "output_type": "stream",
     "text": [
      "/Users/iankwak/Documents/Bank_Marketing_ML/venv/lib/python3.9/site-packages/xgboost/core.py:158: UserWarning: [18:42:48] WARNING: /Users/runner/work/xgboost/xgboost/src/learner.cc:740: \n",
      "Parameters: { \"use_label_encoder\" } are not used.\n",
      "\n",
      "  warnings.warn(smsg, UserWarning)\n",
      "/Users/iankwak/Documents/Bank_Marketing_ML/venv/lib/python3.9/site-packages/xgboost/core.py:158: UserWarning: [18:42:48] WARNING: /Users/runner/work/xgboost/xgboost/src/learner.cc:740: \n",
      "Parameters: { \"use_label_encoder\" } are not used.\n",
      "\n",
      "  warnings.warn(smsg, UserWarning)\n",
      "/Users/iankwak/Documents/Bank_Marketing_ML/venv/lib/python3.9/site-packages/xgboost/core.py:158: UserWarning: [18:42:48] WARNING: /Users/runner/work/xgboost/xgboost/src/learner.cc:740: \n",
      "Parameters: { \"use_label_encoder\" } are not used.\n",
      "\n",
      "  warnings.warn(smsg, UserWarning)\n",
      "/Users/iankwak/Documents/Bank_Marketing_ML/venv/lib/python3.9/site-packages/xgboost/core.py:158: UserWarning: [18:42:48] WARNING: /Users/runner/work/xgboost/xgboost/src/learner.cc:740: \n",
      "Parameters: { \"use_label_encoder\" } are not used.\n",
      "\n",
      "  warnings.warn(smsg, UserWarning)\n",
      "/Users/iankwak/Documents/Bank_Marketing_ML/venv/lib/python3.9/site-packages/xgboost/core.py:158: UserWarning: [18:42:48] WARNING: /Users/runner/work/xgboost/xgboost/src/learner.cc:740: \n",
      "Parameters: { \"use_label_encoder\" } are not used.\n",
      "\n",
      "  warnings.warn(smsg, UserWarning)\n",
      "/Users/iankwak/Documents/Bank_Marketing_ML/venv/lib/python3.9/site-packages/xgboost/core.py:158: UserWarning: [18:42:48] WARNING: /Users/runner/work/xgboost/xgboost/src/learner.cc:740: \n",
      "Parameters: { \"use_label_encoder\" } are not used.\n",
      "\n",
      "  warnings.warn(smsg, UserWarning)\n",
      "/Users/iankwak/Documents/Bank_Marketing_ML/venv/lib/python3.9/site-packages/xgboost/core.py:158: UserWarning: [18:42:48] WARNING: /Users/runner/work/xgboost/xgboost/src/learner.cc:740: \n",
      "Parameters: { \"use_label_encoder\" } are not used.\n",
      "\n",
      "  warnings.warn(smsg, UserWarning)\n",
      "/Users/iankwak/Documents/Bank_Marketing_ML/venv/lib/python3.9/site-packages/xgboost/core.py:158: UserWarning: [18:42:48] WARNING: /Users/runner/work/xgboost/xgboost/src/learner.cc:740: \n",
      "Parameters: { \"use_label_encoder\" } are not used.\n",
      "\n",
      "  warnings.warn(smsg, UserWarning)\n"
     ]
    },
    {
     "name": "stdout",
     "output_type": "stream",
     "text": [
      "[CV] END model__colsample_bytree=1.0, model__learning_rate=0.01, model__max_depth=3, model__n_estimators=100, model__subsample=1.0; total time=   1.0s\n",
      "[CV] END model__colsample_bytree=1.0, model__learning_rate=0.01, model__max_depth=3, model__n_estimators=100, model__subsample=1.0; total time=   0.9s\n",
      "[CV] END model__colsample_bytree=1.0, model__learning_rate=0.01, model__max_depth=3, model__n_estimators=100, model__subsample=1.0; total time=   1.0s\n"
     ]
    },
    {
     "name": "stderr",
     "output_type": "stream",
     "text": [
      "/Users/iankwak/Documents/Bank_Marketing_ML/venv/lib/python3.9/site-packages/xgboost/core.py:158: UserWarning: [18:42:49] WARNING: /Users/runner/work/xgboost/xgboost/src/learner.cc:740: \n",
      "Parameters: { \"use_label_encoder\" } are not used.\n",
      "\n",
      "  warnings.warn(smsg, UserWarning)\n",
      "/Users/iankwak/Documents/Bank_Marketing_ML/venv/lib/python3.9/site-packages/xgboost/core.py:158: UserWarning: [18:42:49] WARNING: /Users/runner/work/xgboost/xgboost/src/learner.cc:740: \n",
      "Parameters: { \"use_label_encoder\" } are not used.\n",
      "\n",
      "  warnings.warn(smsg, UserWarning)\n"
     ]
    },
    {
     "name": "stdout",
     "output_type": "stream",
     "text": [
      "[CV] END model__colsample_bytree=1.0, model__learning_rate=0.01, model__max_depth=3, model__n_estimators=200, model__subsample=0.8; total time=   1.4s\n",
      "[CV] END model__colsample_bytree=1.0, model__learning_rate=0.01, model__max_depth=3, model__n_estimators=200, model__subsample=0.8; total time=   1.4s\n",
      "[CV] END model__colsample_bytree=1.0, model__learning_rate=0.01, model__max_depth=3, model__n_estimators=200, model__subsample=0.8; total time=   1.4s\n",
      "[CV] END model__colsample_bytree=1.0, model__learning_rate=0.01, model__max_depth=3, model__n_estimators=200, model__subsample=0.8; total time=   1.4s\n",
      "[CV] END model__colsample_bytree=1.0, model__learning_rate=0.01, model__max_depth=3, model__n_estimators=200, model__subsample=0.8; total time=   1.4s\n"
     ]
    },
    {
     "name": "stderr",
     "output_type": "stream",
     "text": [
      "/Users/iankwak/Documents/Bank_Marketing_ML/venv/lib/python3.9/site-packages/xgboost/core.py:158: UserWarning: [18:42:49] WARNING: /Users/runner/work/xgboost/xgboost/src/learner.cc:740: \n",
      "Parameters: { \"use_label_encoder\" } are not used.\n",
      "\n",
      "  warnings.warn(smsg, UserWarning)\n",
      "/Users/iankwak/Documents/Bank_Marketing_ML/venv/lib/python3.9/site-packages/xgboost/core.py:158: UserWarning: [18:42:50] WARNING: /Users/runner/work/xgboost/xgboost/src/learner.cc:740: \n",
      "Parameters: { \"use_label_encoder\" } are not used.\n",
      "\n",
      "  warnings.warn(smsg, UserWarning)\n",
      "/Users/iankwak/Documents/Bank_Marketing_ML/venv/lib/python3.9/site-packages/xgboost/core.py:158: UserWarning: [18:42:50] WARNING: /Users/runner/work/xgboost/xgboost/src/learner.cc:740: \n",
      "Parameters: { \"use_label_encoder\" } are not used.\n",
      "\n",
      "  warnings.warn(smsg, UserWarning)\n",
      "/Users/iankwak/Documents/Bank_Marketing_ML/venv/lib/python3.9/site-packages/xgboost/core.py:158: UserWarning: [18:42:50] WARNING: /Users/runner/work/xgboost/xgboost/src/learner.cc:740: \n",
      "Parameters: { \"use_label_encoder\" } are not used.\n",
      "\n",
      "  warnings.warn(smsg, UserWarning)\n",
      "/Users/iankwak/Documents/Bank_Marketing_ML/venv/lib/python3.9/site-packages/xgboost/core.py:158: UserWarning: [18:42:50] WARNING: /Users/runner/work/xgboost/xgboost/src/learner.cc:740: \n",
      "Parameters: { \"use_label_encoder\" } are not used.\n",
      "\n",
      "  warnings.warn(smsg, UserWarning)\n",
      "/Users/iankwak/Documents/Bank_Marketing_ML/venv/lib/python3.9/site-packages/xgboost/core.py:158: UserWarning: [18:42:50] WARNING: /Users/runner/work/xgboost/xgboost/src/learner.cc:740: \n",
      "Parameters: { \"use_label_encoder\" } are not used.\n",
      "\n",
      "  warnings.warn(smsg, UserWarning)\n"
     ]
    },
    {
     "name": "stdout",
     "output_type": "stream",
     "text": [
      "[CV] END model__colsample_bytree=1.0, model__learning_rate=0.01, model__max_depth=3, model__n_estimators=200, model__subsample=1.0; total time=   1.4s\n",
      "[CV] END model__colsample_bytree=1.0, model__learning_rate=0.01, model__max_depth=3, model__n_estimators=200, model__subsample=1.0; total time=   1.6s\n",
      "[CV] END model__colsample_bytree=1.0, model__learning_rate=0.01, model__max_depth=3, model__n_estimators=200, model__subsample=1.0; total time=   1.6s\n",
      "[CV] END model__colsample_bytree=1.0, model__learning_rate=0.01, model__max_depth=5, model__n_estimators=100, model__subsample=0.8; total time=   1.0s\n"
     ]
    },
    {
     "name": "stderr",
     "output_type": "stream",
     "text": [
      "/Users/iankwak/Documents/Bank_Marketing_ML/venv/lib/python3.9/site-packages/xgboost/core.py:158: UserWarning: [18:42:50] WARNING: /Users/runner/work/xgboost/xgboost/src/learner.cc:740: \n",
      "Parameters: { \"use_label_encoder\" } are not used.\n",
      "\n",
      "  warnings.warn(smsg, UserWarning)\n"
     ]
    },
    {
     "name": "stdout",
     "output_type": "stream",
     "text": [
      "[CV] END model__colsample_bytree=1.0, model__learning_rate=0.01, model__max_depth=5, model__n_estimators=100, model__subsample=0.8; total time=   1.3s\n",
      "[CV] END model__colsample_bytree=1.0, model__learning_rate=0.01, model__max_depth=5, model__n_estimators=100, model__subsample=0.8; total time=   1.2s\n",
      "[CV] END model__colsample_bytree=1.0, model__learning_rate=0.01, model__max_depth=3, model__n_estimators=200, model__subsample=1.0; total time=   1.4s\n",
      "[CV] END model__colsample_bytree=1.0, model__learning_rate=0.01, model__max_depth=3, model__n_estimators=200, model__subsample=1.0; total time=   1.5s\n"
     ]
    },
    {
     "name": "stderr",
     "output_type": "stream",
     "text": [
      "/Users/iankwak/Documents/Bank_Marketing_ML/venv/lib/python3.9/site-packages/xgboost/core.py:158: UserWarning: [18:42:51] WARNING: /Users/runner/work/xgboost/xgboost/src/learner.cc:740: \n",
      "Parameters: { \"use_label_encoder\" } are not used.\n",
      "\n",
      "  warnings.warn(smsg, UserWarning)\n",
      "/Users/iankwak/Documents/Bank_Marketing_ML/venv/lib/python3.9/site-packages/xgboost/core.py:158: UserWarning: [18:42:51] WARNING: /Users/runner/work/xgboost/xgboost/src/learner.cc:740: \n",
      "Parameters: { \"use_label_encoder\" } are not used.\n",
      "\n",
      "  warnings.warn(smsg, UserWarning)\n",
      "/Users/iankwak/Documents/Bank_Marketing_ML/venv/lib/python3.9/site-packages/xgboost/core.py:158: UserWarning: [18:42:51] WARNING: /Users/runner/work/xgboost/xgboost/src/learner.cc:740: \n",
      "Parameters: { \"use_label_encoder\" } are not used.\n",
      "\n",
      "  warnings.warn(smsg, UserWarning)\n",
      "/Users/iankwak/Documents/Bank_Marketing_ML/venv/lib/python3.9/site-packages/xgboost/core.py:158: UserWarning: [18:42:51] WARNING: /Users/runner/work/xgboost/xgboost/src/learner.cc:740: \n",
      "Parameters: { \"use_label_encoder\" } are not used.\n",
      "\n",
      "  warnings.warn(smsg, UserWarning)\n"
     ]
    },
    {
     "name": "stdout",
     "output_type": "stream",
     "text": [
      "[CV] END model__colsample_bytree=1.0, model__learning_rate=0.01, model__max_depth=5, model__n_estimators=100, model__subsample=0.8; total time=   1.3s\n"
     ]
    },
    {
     "name": "stderr",
     "output_type": "stream",
     "text": [
      "/Users/iankwak/Documents/Bank_Marketing_ML/venv/lib/python3.9/site-packages/xgboost/core.py:158: UserWarning: [18:42:51] WARNING: /Users/runner/work/xgboost/xgboost/src/learner.cc:740: \n",
      "Parameters: { \"use_label_encoder\" } are not used.\n",
      "\n",
      "  warnings.warn(smsg, UserWarning)\n",
      "/Users/iankwak/Documents/Bank_Marketing_ML/venv/lib/python3.9/site-packages/xgboost/core.py:158: UserWarning: [18:42:51] WARNING: /Users/runner/work/xgboost/xgboost/src/learner.cc:740: \n",
      "Parameters: { \"use_label_encoder\" } are not used.\n",
      "\n",
      "  warnings.warn(smsg, UserWarning)\n",
      "/Users/iankwak/Documents/Bank_Marketing_ML/venv/lib/python3.9/site-packages/xgboost/core.py:158: UserWarning: [18:42:51] WARNING: /Users/runner/work/xgboost/xgboost/src/learner.cc:740: \n",
      "Parameters: { \"use_label_encoder\" } are not used.\n",
      "\n",
      "  warnings.warn(smsg, UserWarning)\n"
     ]
    },
    {
     "name": "stdout",
     "output_type": "stream",
     "text": [
      "[CV] END model__colsample_bytree=1.0, model__learning_rate=0.01, model__max_depth=5, model__n_estimators=100, model__subsample=1.0; total time=   1.3s\n",
      "[CV] END model__colsample_bytree=1.0, model__learning_rate=0.01, model__max_depth=5, model__n_estimators=100, model__subsample=1.0; total time=   1.4s\n",
      "[CV] END model__colsample_bytree=1.0, model__learning_rate=0.01, model__max_depth=5, model__n_estimators=100, model__subsample=1.0; total time=   1.3s\n",
      "[CV] END model__colsample_bytree=1.0, model__learning_rate=0.01, model__max_depth=5, model__n_estimators=100, model__subsample=0.8; total time=   1.6s\n",
      "[CV] END model__colsample_bytree=1.0, model__learning_rate=0.01, model__max_depth=5, model__n_estimators=100, model__subsample=1.0; total time=   1.2s\n",
      "[CV] END model__colsample_bytree=1.0, model__learning_rate=0.01, model__max_depth=5, model__n_estimators=100, model__subsample=1.0; total time=   1.2s\n"
     ]
    },
    {
     "name": "stderr",
     "output_type": "stream",
     "text": [
      "/Users/iankwak/Documents/Bank_Marketing_ML/venv/lib/python3.9/site-packages/xgboost/core.py:158: UserWarning: [18:42:52] WARNING: /Users/runner/work/xgboost/xgboost/src/learner.cc:740: \n",
      "Parameters: { \"use_label_encoder\" } are not used.\n",
      "\n",
      "  warnings.warn(smsg, UserWarning)\n",
      "/Users/iankwak/Documents/Bank_Marketing_ML/venv/lib/python3.9/site-packages/xgboost/core.py:158: UserWarning: [18:42:52] WARNING: /Users/runner/work/xgboost/xgboost/src/learner.cc:740: \n",
      "Parameters: { \"use_label_encoder\" } are not used.\n",
      "\n",
      "  warnings.warn(smsg, UserWarning)\n",
      "/Users/iankwak/Documents/Bank_Marketing_ML/venv/lib/python3.9/site-packages/xgboost/core.py:158: UserWarning: [18:42:53] WARNING: /Users/runner/work/xgboost/xgboost/src/learner.cc:740: \n",
      "Parameters: { \"use_label_encoder\" } are not used.\n",
      "\n",
      "  warnings.warn(smsg, UserWarning)\n",
      "/Users/iankwak/Documents/Bank_Marketing_ML/venv/lib/python3.9/site-packages/xgboost/core.py:158: UserWarning: [18:42:53] WARNING: /Users/runner/work/xgboost/xgboost/src/learner.cc:740: \n",
      "Parameters: { \"use_label_encoder\" } are not used.\n",
      "\n",
      "  warnings.warn(smsg, UserWarning)\n",
      "/Users/iankwak/Documents/Bank_Marketing_ML/venv/lib/python3.9/site-packages/xgboost/core.py:158: UserWarning: [18:42:53] WARNING: /Users/runner/work/xgboost/xgboost/src/learner.cc:740: \n",
      "Parameters: { \"use_label_encoder\" } are not used.\n",
      "\n",
      "  warnings.warn(smsg, UserWarning)\n",
      "/Users/iankwak/Documents/Bank_Marketing_ML/venv/lib/python3.9/site-packages/xgboost/core.py:158: UserWarning: [18:42:53] WARNING: /Users/runner/work/xgboost/xgboost/src/learner.cc:740: \n",
      "Parameters: { \"use_label_encoder\" } are not used.\n",
      "\n",
      "  warnings.warn(smsg, UserWarning)\n",
      "/Users/iankwak/Documents/Bank_Marketing_ML/venv/lib/python3.9/site-packages/xgboost/core.py:158: UserWarning: [18:42:53] WARNING: /Users/runner/work/xgboost/xgboost/src/learner.cc:740: \n",
      "Parameters: { \"use_label_encoder\" } are not used.\n",
      "\n",
      "  warnings.warn(smsg, UserWarning)\n"
     ]
    },
    {
     "name": "stdout",
     "output_type": "stream",
     "text": [
      "[CV] END model__colsample_bytree=1.0, model__learning_rate=0.01, model__max_depth=5, model__n_estimators=200, model__subsample=0.8; total time=   1.8s\n"
     ]
    },
    {
     "name": "stderr",
     "output_type": "stream",
     "text": [
      "/Users/iankwak/Documents/Bank_Marketing_ML/venv/lib/python3.9/site-packages/xgboost/core.py:158: UserWarning: [18:42:53] WARNING: /Users/runner/work/xgboost/xgboost/src/learner.cc:740: \n",
      "Parameters: { \"use_label_encoder\" } are not used.\n",
      "\n",
      "  warnings.warn(smsg, UserWarning)\n"
     ]
    },
    {
     "name": "stdout",
     "output_type": "stream",
     "text": [
      "[CV] END model__colsample_bytree=1.0, model__learning_rate=0.01, model__max_depth=5, model__n_estimators=200, model__subsample=0.8; total time=   2.2s\n",
      "[CV] END model__colsample_bytree=1.0, model__learning_rate=0.01, model__max_depth=5, model__n_estimators=200, model__subsample=0.8; total time=   2.1s\n",
      "[CV] END model__colsample_bytree=1.0, model__learning_rate=0.01, model__max_depth=5, model__n_estimators=200, model__subsample=1.0; total time=   1.7s\n",
      "[CV] END model__colsample_bytree=1.0, model__learning_rate=0.01, model__max_depth=5, model__n_estimators=200, model__subsample=0.8; total time=   2.0s\n"
     ]
    },
    {
     "name": "stderr",
     "output_type": "stream",
     "text": [
      "/Users/iankwak/Documents/Bank_Marketing_ML/venv/lib/python3.9/site-packages/xgboost/core.py:158: UserWarning: [18:42:54] WARNING: /Users/runner/work/xgboost/xgboost/src/learner.cc:740: \n",
      "Parameters: { \"use_label_encoder\" } are not used.\n",
      "\n",
      "  warnings.warn(smsg, UserWarning)\n"
     ]
    },
    {
     "name": "stdout",
     "output_type": "stream",
     "text": [
      "[CV] END model__colsample_bytree=1.0, model__learning_rate=0.01, model__max_depth=5, model__n_estimators=200, model__subsample=0.8; total time=   2.0s\n",
      "[CV] END model__colsample_bytree=1.0, model__learning_rate=0.01, model__max_depth=5, model__n_estimators=200, model__subsample=1.0; total time=   2.0s\n",
      "[CV] END model__colsample_bytree=1.0, model__learning_rate=0.01, model__max_depth=5, model__n_estimators=200, model__subsample=1.0; total time=   2.0s\n"
     ]
    },
    {
     "name": "stderr",
     "output_type": "stream",
     "text": [
      "/Users/iankwak/Documents/Bank_Marketing_ML/venv/lib/python3.9/site-packages/xgboost/core.py:158: UserWarning: [18:42:54] WARNING: /Users/runner/work/xgboost/xgboost/src/learner.cc:740: \n",
      "Parameters: { \"use_label_encoder\" } are not used.\n",
      "\n",
      "  warnings.warn(smsg, UserWarning)\n",
      "/Users/iankwak/Documents/Bank_Marketing_ML/venv/lib/python3.9/site-packages/xgboost/core.py:158: UserWarning: [18:42:55] WARNING: /Users/runner/work/xgboost/xgboost/src/learner.cc:740: \n",
      "Parameters: { \"use_label_encoder\" } are not used.\n",
      "\n",
      "  warnings.warn(smsg, UserWarning)\n",
      "/Users/iankwak/Documents/Bank_Marketing_ML/venv/lib/python3.9/site-packages/xgboost/core.py:158: UserWarning: [18:42:55] WARNING: /Users/runner/work/xgboost/xgboost/src/learner.cc:740: \n",
      "Parameters: { \"use_label_encoder\" } are not used.\n",
      "\n",
      "  warnings.warn(smsg, UserWarning)\n",
      "/Users/iankwak/Documents/Bank_Marketing_ML/venv/lib/python3.9/site-packages/xgboost/core.py:158: UserWarning: [18:42:55] WARNING: /Users/runner/work/xgboost/xgboost/src/learner.cc:740: \n",
      "Parameters: { \"use_label_encoder\" } are not used.\n",
      "\n",
      "  warnings.warn(smsg, UserWarning)\n",
      "/Users/iankwak/Documents/Bank_Marketing_ML/venv/lib/python3.9/site-packages/xgboost/core.py:158: UserWarning: [18:42:55] WARNING: /Users/runner/work/xgboost/xgboost/src/learner.cc:740: \n",
      "Parameters: { \"use_label_encoder\" } are not used.\n",
      "\n",
      "  warnings.warn(smsg, UserWarning)\n",
      "/Users/iankwak/Documents/Bank_Marketing_ML/venv/lib/python3.9/site-packages/xgboost/core.py:158: UserWarning: [18:42:55] WARNING: /Users/runner/work/xgboost/xgboost/src/learner.cc:740: \n",
      "Parameters: { \"use_label_encoder\" } are not used.\n",
      "\n",
      "  warnings.warn(smsg, UserWarning)\n"
     ]
    },
    {
     "name": "stdout",
     "output_type": "stream",
     "text": [
      "[CV] END model__colsample_bytree=1.0, model__learning_rate=0.01, model__max_depth=5, model__n_estimators=200, model__subsample=1.0; total time=   2.0s\n"
     ]
    },
    {
     "name": "stderr",
     "output_type": "stream",
     "text": [
      "/Users/iankwak/Documents/Bank_Marketing_ML/venv/lib/python3.9/site-packages/xgboost/core.py:158: UserWarning: [18:42:55] WARNING: /Users/runner/work/xgboost/xgboost/src/learner.cc:740: \n",
      "Parameters: { \"use_label_encoder\" } are not used.\n",
      "\n",
      "  warnings.warn(smsg, UserWarning)\n"
     ]
    },
    {
     "name": "stdout",
     "output_type": "stream",
     "text": [
      "[CV] END model__colsample_bytree=1.0, model__learning_rate=0.01, model__max_depth=7, model__n_estimators=100, model__subsample=0.8; total time=   1.3s\n",
      "[CV] END model__colsample_bytree=1.0, model__learning_rate=0.01, model__max_depth=7, model__n_estimators=100, model__subsample=0.8; total time=   1.3s\n",
      "[CV] END model__colsample_bytree=1.0, model__learning_rate=0.01, model__max_depth=7, model__n_estimators=100, model__subsample=0.8; total time=   1.2s\n",
      "[CV] END model__colsample_bytree=1.0, model__learning_rate=0.01, model__max_depth=7, model__n_estimators=100, model__subsample=0.8; total time=   1.4s\n",
      "[CV] END model__colsample_bytree=1.0, model__learning_rate=0.01, model__max_depth=5, model__n_estimators=200, model__subsample=1.0; total time=   2.1s\n",
      "[CV] END model__colsample_bytree=1.0, model__learning_rate=0.01, model__max_depth=7, model__n_estimators=100, model__subsample=1.0; total time=   1.4s\n",
      "[CV] END model__colsample_bytree=1.0, model__learning_rate=0.01, model__max_depth=7, model__n_estimators=100, model__subsample=0.8; total time=   1.6s\n"
     ]
    },
    {
     "name": "stderr",
     "output_type": "stream",
     "text": [
      "/Users/iankwak/Documents/Bank_Marketing_ML/venv/lib/python3.9/site-packages/xgboost/core.py:158: UserWarning: [18:42:56] WARNING: /Users/runner/work/xgboost/xgboost/src/learner.cc:740: \n",
      "Parameters: { \"use_label_encoder\" } are not used.\n",
      "\n",
      "  warnings.warn(smsg, UserWarning)\n",
      "/Users/iankwak/Documents/Bank_Marketing_ML/venv/lib/python3.9/site-packages/xgboost/core.py:158: UserWarning: [18:42:56] WARNING: /Users/runner/work/xgboost/xgboost/src/learner.cc:740: \n",
      "Parameters: { \"use_label_encoder\" } are not used.\n",
      "\n",
      "  warnings.warn(smsg, UserWarning)\n",
      "/Users/iankwak/Documents/Bank_Marketing_ML/venv/lib/python3.9/site-packages/xgboost/core.py:158: UserWarning: [18:42:56] WARNING: /Users/runner/work/xgboost/xgboost/src/learner.cc:740: \n",
      "Parameters: { \"use_label_encoder\" } are not used.\n",
      "\n",
      "  warnings.warn(smsg, UserWarning)\n",
      "/Users/iankwak/Documents/Bank_Marketing_ML/venv/lib/python3.9/site-packages/xgboost/core.py:158: UserWarning: [18:42:56] WARNING: /Users/runner/work/xgboost/xgboost/src/learner.cc:740: \n",
      "Parameters: { \"use_label_encoder\" } are not used.\n",
      "\n",
      "  warnings.warn(smsg, UserWarning)\n",
      "/Users/iankwak/Documents/Bank_Marketing_ML/venv/lib/python3.9/site-packages/xgboost/core.py:158: UserWarning: [18:42:56] WARNING: /Users/runner/work/xgboost/xgboost/src/learner.cc:740: \n",
      "Parameters: { \"use_label_encoder\" } are not used.\n",
      "\n",
      "  warnings.warn(smsg, UserWarning)\n"
     ]
    },
    {
     "name": "stdout",
     "output_type": "stream",
     "text": [
      "[CV] END model__colsample_bytree=1.0, model__learning_rate=0.01, model__max_depth=7, model__n_estimators=100, model__subsample=1.0; total time=   1.3s\n"
     ]
    },
    {
     "name": "stderr",
     "output_type": "stream",
     "text": [
      "/Users/iankwak/Documents/Bank_Marketing_ML/venv/lib/python3.9/site-packages/xgboost/core.py:158: UserWarning: [18:42:56] WARNING: /Users/runner/work/xgboost/xgboost/src/learner.cc:740: \n",
      "Parameters: { \"use_label_encoder\" } are not used.\n",
      "\n",
      "  warnings.warn(smsg, UserWarning)\n",
      "/Users/iankwak/Documents/Bank_Marketing_ML/venv/lib/python3.9/site-packages/xgboost/core.py:158: UserWarning: [18:42:56] WARNING: /Users/runner/work/xgboost/xgboost/src/learner.cc:740: \n",
      "Parameters: { \"use_label_encoder\" } are not used.\n",
      "\n",
      "  warnings.warn(smsg, UserWarning)\n",
      "/Users/iankwak/Documents/Bank_Marketing_ML/venv/lib/python3.9/site-packages/xgboost/core.py:158: UserWarning: [18:42:57] WARNING: /Users/runner/work/xgboost/xgboost/src/learner.cc:740: \n",
      "Parameters: { \"use_label_encoder\" } are not used.\n",
      "\n",
      "  warnings.warn(smsg, UserWarning)\n"
     ]
    },
    {
     "name": "stdout",
     "output_type": "stream",
     "text": [
      "[CV] END model__colsample_bytree=1.0, model__learning_rate=0.01, model__max_depth=7, model__n_estimators=100, model__subsample=1.0; total time=   1.4s\n",
      "[CV] END model__colsample_bytree=1.0, model__learning_rate=0.01, model__max_depth=7, model__n_estimators=100, model__subsample=1.0; total time=   1.4s\n",
      "[CV] END model__colsample_bytree=1.0, model__learning_rate=0.01, model__max_depth=7, model__n_estimators=100, model__subsample=1.0; total time=   1.3s\n"
     ]
    },
    {
     "name": "stderr",
     "output_type": "stream",
     "text": [
      "/Users/iankwak/Documents/Bank_Marketing_ML/venv/lib/python3.9/site-packages/xgboost/core.py:158: UserWarning: [18:42:57] WARNING: /Users/runner/work/xgboost/xgboost/src/learner.cc:740: \n",
      "Parameters: { \"use_label_encoder\" } are not used.\n",
      "\n",
      "  warnings.warn(smsg, UserWarning)\n",
      "/Users/iankwak/Documents/Bank_Marketing_ML/venv/lib/python3.9/site-packages/xgboost/core.py:158: UserWarning: [18:42:57] WARNING: /Users/runner/work/xgboost/xgboost/src/learner.cc:740: \n",
      "Parameters: { \"use_label_encoder\" } are not used.\n",
      "\n",
      "  warnings.warn(smsg, UserWarning)\n",
      "/Users/iankwak/Documents/Bank_Marketing_ML/venv/lib/python3.9/site-packages/xgboost/core.py:158: UserWarning: [18:42:57] WARNING: /Users/runner/work/xgboost/xgboost/src/learner.cc:740: \n",
      "Parameters: { \"use_label_encoder\" } are not used.\n",
      "\n",
      "  warnings.warn(smsg, UserWarning)\n"
     ]
    },
    {
     "name": "stdout",
     "output_type": "stream",
     "text": [
      "[CV] END model__colsample_bytree=1.0, model__learning_rate=0.01, model__max_depth=7, model__n_estimators=200, model__subsample=0.8; total time=   2.1s\n",
      "[CV] END model__colsample_bytree=1.0, model__learning_rate=0.01, model__max_depth=7, model__n_estimators=200, model__subsample=0.8; total time=   2.2s\n",
      "[CV] END model__colsample_bytree=1.0, model__learning_rate=0.01, model__max_depth=7, model__n_estimators=200, model__subsample=0.8; total time=   2.4s\n",
      "[CV] END model__colsample_bytree=1.0, model__learning_rate=0.01, model__max_depth=7, model__n_estimators=200, model__subsample=0.8; total time=   2.4s\n"
     ]
    },
    {
     "name": "stderr",
     "output_type": "stream",
     "text": [
      "/Users/iankwak/Documents/Bank_Marketing_ML/venv/lib/python3.9/site-packages/xgboost/core.py:158: UserWarning: [18:42:58] WARNING: /Users/runner/work/xgboost/xgboost/src/learner.cc:740: \n",
      "Parameters: { \"use_label_encoder\" } are not used.\n",
      "\n",
      "  warnings.warn(smsg, UserWarning)\n",
      "/Users/iankwak/Documents/Bank_Marketing_ML/venv/lib/python3.9/site-packages/xgboost/core.py:158: UserWarning: [18:42:58] WARNING: /Users/runner/work/xgboost/xgboost/src/learner.cc:740: \n",
      "Parameters: { \"use_label_encoder\" } are not used.\n",
      "\n",
      "  warnings.warn(smsg, UserWarning)\n",
      "/Users/iankwak/Documents/Bank_Marketing_ML/venv/lib/python3.9/site-packages/xgboost/core.py:158: UserWarning: [18:42:59] WARNING: /Users/runner/work/xgboost/xgboost/src/learner.cc:740: \n",
      "Parameters: { \"use_label_encoder\" } are not used.\n",
      "\n",
      "  warnings.warn(smsg, UserWarning)\n"
     ]
    },
    {
     "name": "stdout",
     "output_type": "stream",
     "text": [
      "[CV] END model__colsample_bytree=1.0, model__learning_rate=0.01, model__max_depth=7, model__n_estimators=200, model__subsample=0.8; total time=   2.6s\n",
      "[CV] END model__colsample_bytree=1.0, model__learning_rate=0.01, model__max_depth=7, model__n_estimators=200, model__subsample=1.0; total time=   2.2s\n"
     ]
    },
    {
     "name": "stderr",
     "output_type": "stream",
     "text": [
      "/Users/iankwak/Documents/Bank_Marketing_ML/venv/lib/python3.9/site-packages/xgboost/core.py:158: UserWarning: [18:42:59] WARNING: /Users/runner/work/xgboost/xgboost/src/learner.cc:740: \n",
      "Parameters: { \"use_label_encoder\" } are not used.\n",
      "\n",
      "  warnings.warn(smsg, UserWarning)\n"
     ]
    },
    {
     "name": "stdout",
     "output_type": "stream",
     "text": [
      "[CV] END model__colsample_bytree=1.0, model__learning_rate=0.01, model__max_depth=7, model__n_estimators=200, model__subsample=1.0; total time=   2.1s\n",
      "[CV] END model__colsample_bytree=1.0, model__learning_rate=0.01, model__max_depth=7, model__n_estimators=200, model__subsample=1.0; total time=   2.1s\n"
     ]
    },
    {
     "name": "stderr",
     "output_type": "stream",
     "text": [
      "/Users/iankwak/Documents/Bank_Marketing_ML/venv/lib/python3.9/site-packages/xgboost/core.py:158: UserWarning: [18:42:59] WARNING: /Users/runner/work/xgboost/xgboost/src/learner.cc:740: \n",
      "Parameters: { \"use_label_encoder\" } are not used.\n",
      "\n",
      "  warnings.warn(smsg, UserWarning)\n",
      "/Users/iankwak/Documents/Bank_Marketing_ML/venv/lib/python3.9/site-packages/xgboost/core.py:158: UserWarning: [18:42:59] WARNING: /Users/runner/work/xgboost/xgboost/src/learner.cc:740: \n",
      "Parameters: { \"use_label_encoder\" } are not used.\n",
      "\n",
      "  warnings.warn(smsg, UserWarning)\n"
     ]
    },
    {
     "name": "stdout",
     "output_type": "stream",
     "text": [
      "[CV] END model__colsample_bytree=1.0, model__learning_rate=0.1, model__max_depth=3, model__n_estimators=100, model__subsample=0.8; total time=   1.1s\n",
      "[CV] END model__colsample_bytree=1.0, model__learning_rate=0.1, model__max_depth=3, model__n_estimators=100, model__subsample=0.8; total time=   1.1s\n"
     ]
    },
    {
     "name": "stderr",
     "output_type": "stream",
     "text": [
      "/Users/iankwak/Documents/Bank_Marketing_ML/venv/lib/python3.9/site-packages/xgboost/core.py:158: UserWarning: [18:43:00] WARNING: /Users/runner/work/xgboost/xgboost/src/learner.cc:740: \n",
      "Parameters: { \"use_label_encoder\" } are not used.\n",
      "\n",
      "  warnings.warn(smsg, UserWarning)\n",
      "/Users/iankwak/Documents/Bank_Marketing_ML/venv/lib/python3.9/site-packages/xgboost/core.py:158: UserWarning: [18:43:00] WARNING: /Users/runner/work/xgboost/xgboost/src/learner.cc:740: \n",
      "Parameters: { \"use_label_encoder\" } are not used.\n",
      "\n",
      "  warnings.warn(smsg, UserWarning)\n"
     ]
    },
    {
     "name": "stdout",
     "output_type": "stream",
     "text": [
      "[CV] END model__colsample_bytree=1.0, model__learning_rate=0.1, model__max_depth=3, model__n_estimators=100, model__subsample=0.8; total time=   1.5s\n",
      "[CV] END model__colsample_bytree=1.0, model__learning_rate=0.1, model__max_depth=3, model__n_estimators=100, model__subsample=0.8; total time=   1.5s\n"
     ]
    },
    {
     "name": "stderr",
     "output_type": "stream",
     "text": [
      "/Users/iankwak/Documents/Bank_Marketing_ML/venv/lib/python3.9/site-packages/xgboost/core.py:158: UserWarning: [18:43:00] WARNING: /Users/runner/work/xgboost/xgboost/src/learner.cc:740: \n",
      "Parameters: { \"use_label_encoder\" } are not used.\n",
      "\n",
      "  warnings.warn(smsg, UserWarning)\n",
      "/Users/iankwak/Documents/Bank_Marketing_ML/venv/lib/python3.9/site-packages/xgboost/core.py:158: UserWarning: [18:43:01] WARNING: /Users/runner/work/xgboost/xgboost/src/learner.cc:740: \n",
      "Parameters: { \"use_label_encoder\" } are not used.\n",
      "\n",
      "  warnings.warn(smsg, UserWarning)\n"
     ]
    },
    {
     "name": "stdout",
     "output_type": "stream",
     "text": [
      "[CV] END model__colsample_bytree=1.0, model__learning_rate=0.1, model__max_depth=3, model__n_estimators=100, model__subsample=0.8; total time=   1.5s\n",
      "[CV] END model__colsample_bytree=1.0, model__learning_rate=0.1, model__max_depth=3, model__n_estimators=100, model__subsample=1.0; total time=   1.5s\n",
      "[CV] END model__colsample_bytree=1.0, model__learning_rate=0.01, model__max_depth=7, model__n_estimators=200, model__subsample=1.0; total time=   2.7s\n",
      "[CV] END model__colsample_bytree=1.0, model__learning_rate=0.01, model__max_depth=7, model__n_estimators=200, model__subsample=1.0; total time=   2.9s\n"
     ]
    },
    {
     "name": "stderr",
     "output_type": "stream",
     "text": [
      "/Users/iankwak/Documents/Bank_Marketing_ML/venv/lib/python3.9/site-packages/xgboost/core.py:158: UserWarning: [18:43:01] WARNING: /Users/runner/work/xgboost/xgboost/src/learner.cc:740: \n",
      "Parameters: { \"use_label_encoder\" } are not used.\n",
      "\n",
      "  warnings.warn(smsg, UserWarning)\n",
      "/Users/iankwak/Documents/Bank_Marketing_ML/venv/lib/python3.9/site-packages/xgboost/core.py:158: UserWarning: [18:43:01] WARNING: /Users/runner/work/xgboost/xgboost/src/learner.cc:740: \n",
      "Parameters: { \"use_label_encoder\" } are not used.\n",
      "\n",
      "  warnings.warn(smsg, UserWarning)\n",
      "/Users/iankwak/Documents/Bank_Marketing_ML/venv/lib/python3.9/site-packages/xgboost/core.py:158: UserWarning: [18:43:01] WARNING: /Users/runner/work/xgboost/xgboost/src/learner.cc:740: \n",
      "Parameters: { \"use_label_encoder\" } are not used.\n",
      "\n",
      "  warnings.warn(smsg, UserWarning)\n"
     ]
    },
    {
     "name": "stdout",
     "output_type": "stream",
     "text": [
      "[CV] END model__colsample_bytree=1.0, model__learning_rate=0.1, model__max_depth=3, model__n_estimators=100, model__subsample=1.0; total time=   1.4s\n",
      "[CV] END model__colsample_bytree=1.0, model__learning_rate=0.1, model__max_depth=3, model__n_estimators=100, model__subsample=1.0; total time=   1.1s\n"
     ]
    },
    {
     "name": "stderr",
     "output_type": "stream",
     "text": [
      "/Users/iankwak/Documents/Bank_Marketing_ML/venv/lib/python3.9/site-packages/xgboost/core.py:158: UserWarning: [18:43:01] WARNING: /Users/runner/work/xgboost/xgboost/src/learner.cc:740: \n",
      "Parameters: { \"use_label_encoder\" } are not used.\n",
      "\n",
      "  warnings.warn(smsg, UserWarning)\n",
      "/Users/iankwak/Documents/Bank_Marketing_ML/venv/lib/python3.9/site-packages/xgboost/core.py:158: UserWarning: [18:43:01] WARNING: /Users/runner/work/xgboost/xgboost/src/learner.cc:740: \n",
      "Parameters: { \"use_label_encoder\" } are not used.\n",
      "\n",
      "  warnings.warn(smsg, UserWarning)\n",
      "/Users/iankwak/Documents/Bank_Marketing_ML/venv/lib/python3.9/site-packages/xgboost/core.py:158: UserWarning: [18:43:01] WARNING: /Users/runner/work/xgboost/xgboost/src/learner.cc:740: \n",
      "Parameters: { \"use_label_encoder\" } are not used.\n",
      "\n",
      "  warnings.warn(smsg, UserWarning)\n"
     ]
    },
    {
     "name": "stdout",
     "output_type": "stream",
     "text": [
      "[CV] END model__colsample_bytree=1.0, model__learning_rate=0.1, model__max_depth=3, model__n_estimators=100, model__subsample=1.0; total time=   1.0s\n",
      "[CV] END model__colsample_bytree=1.0, model__learning_rate=0.1, model__max_depth=3, model__n_estimators=100, model__subsample=1.0; total time=   0.9s\n"
     ]
    },
    {
     "name": "stderr",
     "output_type": "stream",
     "text": [
      "/Users/iankwak/Documents/Bank_Marketing_ML/venv/lib/python3.9/site-packages/xgboost/core.py:158: UserWarning: [18:43:01] WARNING: /Users/runner/work/xgboost/xgboost/src/learner.cc:740: \n",
      "Parameters: { \"use_label_encoder\" } are not used.\n",
      "\n",
      "  warnings.warn(smsg, UserWarning)\n",
      "/Users/iankwak/Documents/Bank_Marketing_ML/venv/lib/python3.9/site-packages/xgboost/core.py:158: UserWarning: [18:43:02] WARNING: /Users/runner/work/xgboost/xgboost/src/learner.cc:740: \n",
      "Parameters: { \"use_label_encoder\" } are not used.\n",
      "\n",
      "  warnings.warn(smsg, UserWarning)\n",
      "/Users/iankwak/Documents/Bank_Marketing_ML/venv/lib/python3.9/site-packages/xgboost/core.py:158: UserWarning: [18:43:02] WARNING: /Users/runner/work/xgboost/xgboost/src/learner.cc:740: \n",
      "Parameters: { \"use_label_encoder\" } are not used.\n",
      "\n",
      "  warnings.warn(smsg, UserWarning)\n",
      "/Users/iankwak/Documents/Bank_Marketing_ML/venv/lib/python3.9/site-packages/xgboost/core.py:158: UserWarning: [18:43:02] WARNING: /Users/runner/work/xgboost/xgboost/src/learner.cc:740: \n",
      "Parameters: { \"use_label_encoder\" } are not used.\n",
      "\n",
      "  warnings.warn(smsg, UserWarning)\n"
     ]
    },
    {
     "name": "stdout",
     "output_type": "stream",
     "text": [
      "[CV] END model__colsample_bytree=1.0, model__learning_rate=0.1, model__max_depth=3, model__n_estimators=200, model__subsample=0.8; total time=   1.5s\n",
      "[CV] END model__colsample_bytree=1.0, model__learning_rate=0.1, model__max_depth=3, model__n_estimators=200, model__subsample=0.8; total time=   1.5s\n",
      "[CV] END model__colsample_bytree=1.0, model__learning_rate=0.1, model__max_depth=3, model__n_estimators=200, model__subsample=0.8; total time=   1.5s\n",
      "[CV] END model__colsample_bytree=1.0, model__learning_rate=0.1, model__max_depth=3, model__n_estimators=200, model__subsample=0.8; total time=   1.7s\n",
      "[CV] END model__colsample_bytree=1.0, model__learning_rate=0.1, model__max_depth=3, model__n_estimators=200, model__subsample=1.0; total time=   1.4s\n",
      "[CV] END model__colsample_bytree=1.0, model__learning_rate=0.1, model__max_depth=3, model__n_estimators=200, model__subsample=0.8; total time=   1.5s\n"
     ]
    },
    {
     "name": "stderr",
     "output_type": "stream",
     "text": [
      "/Users/iankwak/Documents/Bank_Marketing_ML/venv/lib/python3.9/site-packages/xgboost/core.py:158: UserWarning: [18:43:03] WARNING: /Users/runner/work/xgboost/xgboost/src/learner.cc:740: \n",
      "Parameters: { \"use_label_encoder\" } are not used.\n",
      "\n",
      "  warnings.warn(smsg, UserWarning)\n",
      "/Users/iankwak/Documents/Bank_Marketing_ML/venv/lib/python3.9/site-packages/xgboost/core.py:158: UserWarning: [18:43:03] WARNING: /Users/runner/work/xgboost/xgboost/src/learner.cc:740: \n",
      "Parameters: { \"use_label_encoder\" } are not used.\n",
      "\n",
      "  warnings.warn(smsg, UserWarning)\n"
     ]
    },
    {
     "name": "stdout",
     "output_type": "stream",
     "text": [
      "[CV] END model__colsample_bytree=1.0, model__learning_rate=0.1, model__max_depth=3, model__n_estimators=200, model__subsample=1.0; total time=   1.4s\n",
      "[CV] END model__colsample_bytree=1.0, model__learning_rate=0.1, model__max_depth=3, model__n_estimators=200, model__subsample=1.0; total time=   1.4s\n"
     ]
    },
    {
     "name": "stderr",
     "output_type": "stream",
     "text": [
      "/Users/iankwak/Documents/Bank_Marketing_ML/venv/lib/python3.9/site-packages/xgboost/core.py:158: UserWarning: [18:43:03] WARNING: /Users/runner/work/xgboost/xgboost/src/learner.cc:740: \n",
      "Parameters: { \"use_label_encoder\" } are not used.\n",
      "\n",
      "  warnings.warn(smsg, UserWarning)\n",
      "/Users/iankwak/Documents/Bank_Marketing_ML/venv/lib/python3.9/site-packages/xgboost/core.py:158: UserWarning: [18:43:03] WARNING: /Users/runner/work/xgboost/xgboost/src/learner.cc:740: \n",
      "Parameters: { \"use_label_encoder\" } are not used.\n",
      "\n",
      "  warnings.warn(smsg, UserWarning)\n",
      "/Users/iankwak/Documents/Bank_Marketing_ML/venv/lib/python3.9/site-packages/xgboost/core.py:158: UserWarning: [18:43:03] WARNING: /Users/runner/work/xgboost/xgboost/src/learner.cc:740: \n",
      "Parameters: { \"use_label_encoder\" } are not used.\n",
      "\n",
      "  warnings.warn(smsg, UserWarning)\n",
      "/Users/iankwak/Documents/Bank_Marketing_ML/venv/lib/python3.9/site-packages/xgboost/core.py:158: UserWarning: [18:43:03] WARNING: /Users/runner/work/xgboost/xgboost/src/learner.cc:740: \n",
      "Parameters: { \"use_label_encoder\" } are not used.\n",
      "\n",
      "  warnings.warn(smsg, UserWarning)\n",
      "/Users/iankwak/Documents/Bank_Marketing_ML/venv/lib/python3.9/site-packages/xgboost/core.py:158: UserWarning: [18:43:03] WARNING: /Users/runner/work/xgboost/xgboost/src/learner.cc:740: \n",
      "Parameters: { \"use_label_encoder\" } are not used.\n",
      "\n",
      "  warnings.warn(smsg, UserWarning)\n",
      "/Users/iankwak/Documents/Bank_Marketing_ML/venv/lib/python3.9/site-packages/xgboost/core.py:158: UserWarning: [18:43:04] WARNING: /Users/runner/work/xgboost/xgboost/src/learner.cc:740: \n",
      "Parameters: { \"use_label_encoder\" } are not used.\n",
      "\n",
      "  warnings.warn(smsg, UserWarning)\n"
     ]
    },
    {
     "name": "stdout",
     "output_type": "stream",
     "text": [
      "[CV] END model__colsample_bytree=1.0, model__learning_rate=0.1, model__max_depth=3, model__n_estimators=200, model__subsample=1.0; total time=   1.3s\n",
      "[CV] END model__colsample_bytree=1.0, model__learning_rate=0.1, model__max_depth=3, model__n_estimators=200, model__subsample=1.0; total time=   1.4s\n",
      "[CV] END model__colsample_bytree=1.0, model__learning_rate=0.1, model__max_depth=5, model__n_estimators=100, model__subsample=0.8; total time=   1.1s\n",
      "[CV] END model__colsample_bytree=1.0, model__learning_rate=0.1, model__max_depth=5, model__n_estimators=100, model__subsample=0.8; total time=   1.2s\n",
      "[CV] END model__colsample_bytree=1.0, model__learning_rate=0.1, model__max_depth=5, model__n_estimators=100, model__subsample=0.8; total time=   1.3s\n",
      "[CV] END model__colsample_bytree=1.0, model__learning_rate=0.1, model__max_depth=5, model__n_estimators=100, model__subsample=0.8; total time=   1.3s\n"
     ]
    },
    {
     "name": "stderr",
     "output_type": "stream",
     "text": [
      "/Users/iankwak/Documents/Bank_Marketing_ML/venv/lib/python3.9/site-packages/xgboost/core.py:158: UserWarning: [18:43:04] WARNING: /Users/runner/work/xgboost/xgboost/src/learner.cc:740: \n",
      "Parameters: { \"use_label_encoder\" } are not used.\n",
      "\n",
      "  warnings.warn(smsg, UserWarning)\n"
     ]
    },
    {
     "name": "stdout",
     "output_type": "stream",
     "text": [
      "[CV] END model__colsample_bytree=1.0, model__learning_rate=0.1, model__max_depth=5, model__n_estimators=100, model__subsample=0.8; total time=   1.1s\n",
      "[CV] END model__colsample_bytree=1.0, model__learning_rate=0.1, model__max_depth=5, model__n_estimators=100, model__subsample=1.0; total time=   1.2s\n"
     ]
    },
    {
     "name": "stderr",
     "output_type": "stream",
     "text": [
      "/Users/iankwak/Documents/Bank_Marketing_ML/venv/lib/python3.9/site-packages/xgboost/core.py:158: UserWarning: [18:43:04] WARNING: /Users/runner/work/xgboost/xgboost/src/learner.cc:740: \n",
      "Parameters: { \"use_label_encoder\" } are not used.\n",
      "\n",
      "  warnings.warn(smsg, UserWarning)\n",
      "/Users/iankwak/Documents/Bank_Marketing_ML/venv/lib/python3.9/site-packages/xgboost/core.py:158: UserWarning: [18:43:04] WARNING: /Users/runner/work/xgboost/xgboost/src/learner.cc:740: \n",
      "Parameters: { \"use_label_encoder\" } are not used.\n",
      "\n",
      "  warnings.warn(smsg, UserWarning)\n",
      "/Users/iankwak/Documents/Bank_Marketing_ML/venv/lib/python3.9/site-packages/xgboost/core.py:158: UserWarning: [18:43:04] WARNING: /Users/runner/work/xgboost/xgboost/src/learner.cc:740: \n",
      "Parameters: { \"use_label_encoder\" } are not used.\n",
      "\n",
      "  warnings.warn(smsg, UserWarning)\n",
      "/Users/iankwak/Documents/Bank_Marketing_ML/venv/lib/python3.9/site-packages/xgboost/core.py:158: UserWarning: [18:43:04] WARNING: /Users/runner/work/xgboost/xgboost/src/learner.cc:740: \n",
      "Parameters: { \"use_label_encoder\" } are not used.\n",
      "\n",
      "  warnings.warn(smsg, UserWarning)\n",
      "/Users/iankwak/Documents/Bank_Marketing_ML/venv/lib/python3.9/site-packages/xgboost/core.py:158: UserWarning: [18:43:05] WARNING: /Users/runner/work/xgboost/xgboost/src/learner.cc:740: \n",
      "Parameters: { \"use_label_encoder\" } are not used.\n",
      "\n",
      "  warnings.warn(smsg, UserWarning)\n",
      "/Users/iankwak/Documents/Bank_Marketing_ML/venv/lib/python3.9/site-packages/xgboost/core.py:158: UserWarning: [18:43:05] WARNING: /Users/runner/work/xgboost/xgboost/src/learner.cc:740: \n",
      "Parameters: { \"use_label_encoder\" } are not used.\n",
      "\n",
      "  warnings.warn(smsg, UserWarning)\n",
      "/Users/iankwak/Documents/Bank_Marketing_ML/venv/lib/python3.9/site-packages/xgboost/core.py:158: UserWarning: [18:43:05] WARNING: /Users/runner/work/xgboost/xgboost/src/learner.cc:740: \n",
      "Parameters: { \"use_label_encoder\" } are not used.\n",
      "\n",
      "  warnings.warn(smsg, UserWarning)\n"
     ]
    },
    {
     "name": "stdout",
     "output_type": "stream",
     "text": [
      "[CV] END model__colsample_bytree=1.0, model__learning_rate=0.1, model__max_depth=5, model__n_estimators=100, model__subsample=1.0; total time=   1.0s\n",
      "[CV] END model__colsample_bytree=1.0, model__learning_rate=0.1, model__max_depth=5, model__n_estimators=100, model__subsample=1.0; total time=   1.3s\n",
      "[CV] END model__colsample_bytree=1.0, model__learning_rate=0.1, model__max_depth=5, model__n_estimators=100, model__subsample=1.0; total time=   1.2s\n",
      "[CV] END model__colsample_bytree=1.0, model__learning_rate=0.1, model__max_depth=5, model__n_estimators=100, model__subsample=1.0; total time=   1.2s\n"
     ]
    },
    {
     "name": "stderr",
     "output_type": "stream",
     "text": [
      "/Users/iankwak/Documents/Bank_Marketing_ML/venv/lib/python3.9/site-packages/xgboost/core.py:158: UserWarning: [18:43:05] WARNING: /Users/runner/work/xgboost/xgboost/src/learner.cc:740: \n",
      "Parameters: { \"use_label_encoder\" } are not used.\n",
      "\n",
      "  warnings.warn(smsg, UserWarning)\n",
      "/Users/iankwak/Documents/Bank_Marketing_ML/venv/lib/python3.9/site-packages/xgboost/core.py:158: UserWarning: [18:43:06] WARNING: /Users/runner/work/xgboost/xgboost/src/learner.cc:740: \n",
      "Parameters: { \"use_label_encoder\" } are not used.\n",
      "\n",
      "  warnings.warn(smsg, UserWarning)\n",
      "/Users/iankwak/Documents/Bank_Marketing_ML/venv/lib/python3.9/site-packages/xgboost/core.py:158: UserWarning: [18:43:06] WARNING: /Users/runner/work/xgboost/xgboost/src/learner.cc:740: \n",
      "Parameters: { \"use_label_encoder\" } are not used.\n",
      "\n",
      "  warnings.warn(smsg, UserWarning)\n",
      "/Users/iankwak/Documents/Bank_Marketing_ML/venv/lib/python3.9/site-packages/xgboost/core.py:158: UserWarning: [18:43:06] WARNING: /Users/runner/work/xgboost/xgboost/src/learner.cc:740: \n",
      "Parameters: { \"use_label_encoder\" } are not used.\n",
      "\n",
      "  warnings.warn(smsg, UserWarning)\n"
     ]
    },
    {
     "name": "stdout",
     "output_type": "stream",
     "text": [
      "[CV] END model__colsample_bytree=1.0, model__learning_rate=0.1, model__max_depth=5, model__n_estimators=200, model__subsample=0.8; total time=   1.8s\n",
      "[CV] END model__colsample_bytree=1.0, model__learning_rate=0.1, model__max_depth=5, model__n_estimators=200, model__subsample=0.8; total time=   1.9s\n",
      "[CV] END model__colsample_bytree=1.0, model__learning_rate=0.1, model__max_depth=5, model__n_estimators=200, model__subsample=0.8; total time=   1.7s\n",
      "[CV] END model__colsample_bytree=1.0, model__learning_rate=0.1, model__max_depth=5, model__n_estimators=200, model__subsample=0.8; total time=   1.9s\n"
     ]
    },
    {
     "name": "stderr",
     "output_type": "stream",
     "text": [
      "/Users/iankwak/Documents/Bank_Marketing_ML/venv/lib/python3.9/site-packages/xgboost/core.py:158: UserWarning: [18:43:06] WARNING: /Users/runner/work/xgboost/xgboost/src/learner.cc:740: \n",
      "Parameters: { \"use_label_encoder\" } are not used.\n",
      "\n",
      "  warnings.warn(smsg, UserWarning)\n",
      "/Users/iankwak/Documents/Bank_Marketing_ML/venv/lib/python3.9/site-packages/xgboost/core.py:158: UserWarning: [18:43:06] WARNING: /Users/runner/work/xgboost/xgboost/src/learner.cc:740: \n",
      "Parameters: { \"use_label_encoder\" } are not used.\n",
      "\n",
      "  warnings.warn(smsg, UserWarning)\n"
     ]
    },
    {
     "name": "stdout",
     "output_type": "stream",
     "text": [
      "[CV] END model__colsample_bytree=1.0, model__learning_rate=0.1, model__max_depth=5, model__n_estimators=200, model__subsample=0.8; total time=   1.7s\n"
     ]
    },
    {
     "name": "stderr",
     "output_type": "stream",
     "text": [
      "/Users/iankwak/Documents/Bank_Marketing_ML/venv/lib/python3.9/site-packages/xgboost/core.py:158: UserWarning: [18:43:07] WARNING: /Users/runner/work/xgboost/xgboost/src/learner.cc:740: \n",
      "Parameters: { \"use_label_encoder\" } are not used.\n",
      "\n",
      "  warnings.warn(smsg, UserWarning)\n",
      "/Users/iankwak/Documents/Bank_Marketing_ML/venv/lib/python3.9/site-packages/xgboost/core.py:158: UserWarning: [18:43:07] WARNING: /Users/runner/work/xgboost/xgboost/src/learner.cc:740: \n",
      "Parameters: { \"use_label_encoder\" } are not used.\n",
      "\n",
      "  warnings.warn(smsg, UserWarning)\n"
     ]
    },
    {
     "name": "stdout",
     "output_type": "stream",
     "text": [
      "[CV] END model__colsample_bytree=1.0, model__learning_rate=0.1, model__max_depth=5, model__n_estimators=200, model__subsample=1.0; total time=   1.6s\n",
      "[CV] END model__colsample_bytree=1.0, model__learning_rate=0.1, model__max_depth=5, model__n_estimators=200, model__subsample=1.0; total time=   1.6s\n",
      "[CV] END model__colsample_bytree=1.0, model__learning_rate=0.1, model__max_depth=5, model__n_estimators=200, model__subsample=1.0; total time=   1.6s\n"
     ]
    },
    {
     "name": "stderr",
     "output_type": "stream",
     "text": [
      "/Users/iankwak/Documents/Bank_Marketing_ML/venv/lib/python3.9/site-packages/xgboost/core.py:158: UserWarning: [18:43:07] WARNING: /Users/runner/work/xgboost/xgboost/src/learner.cc:740: \n",
      "Parameters: { \"use_label_encoder\" } are not used.\n",
      "\n",
      "  warnings.warn(smsg, UserWarning)\n",
      "/Users/iankwak/Documents/Bank_Marketing_ML/venv/lib/python3.9/site-packages/xgboost/core.py:158: UserWarning: [18:43:08] WARNING: /Users/runner/work/xgboost/xgboost/src/learner.cc:740: \n",
      "Parameters: { \"use_label_encoder\" } are not used.\n",
      "\n",
      "  warnings.warn(smsg, UserWarning)\n",
      "/Users/iankwak/Documents/Bank_Marketing_ML/venv/lib/python3.9/site-packages/xgboost/core.py:158: UserWarning: [18:43:08] WARNING: /Users/runner/work/xgboost/xgboost/src/learner.cc:740: \n",
      "Parameters: { \"use_label_encoder\" } are not used.\n",
      "\n",
      "  warnings.warn(smsg, UserWarning)\n",
      "/Users/iankwak/Documents/Bank_Marketing_ML/venv/lib/python3.9/site-packages/xgboost/core.py:158: UserWarning: [18:43:08] WARNING: /Users/runner/work/xgboost/xgboost/src/learner.cc:740: \n",
      "Parameters: { \"use_label_encoder\" } are not used.\n",
      "\n",
      "  warnings.warn(smsg, UserWarning)\n"
     ]
    },
    {
     "name": "stdout",
     "output_type": "stream",
     "text": [
      "[CV] END model__colsample_bytree=1.0, model__learning_rate=0.1, model__max_depth=7, model__n_estimators=100, model__subsample=0.8; total time=   1.5s\n",
      "[CV] END model__colsample_bytree=1.0, model__learning_rate=0.1, model__max_depth=5, model__n_estimators=200, model__subsample=1.0; total time=   1.9s\n",
      "[CV] END model__colsample_bytree=1.0, model__learning_rate=0.1, model__max_depth=7, model__n_estimators=100, model__subsample=0.8; total time=   1.5s\n",
      "[CV] END model__colsample_bytree=1.0, model__learning_rate=0.1, model__max_depth=5, model__n_estimators=200, model__subsample=1.0; total time=   1.8s\n",
      "[CV] END model__colsample_bytree=1.0, model__learning_rate=0.1, model__max_depth=7, model__n_estimators=100, model__subsample=0.8; total time=   1.5s\n"
     ]
    },
    {
     "name": "stderr",
     "output_type": "stream",
     "text": [
      "/Users/iankwak/Documents/Bank_Marketing_ML/venv/lib/python3.9/site-packages/xgboost/core.py:158: UserWarning: [18:43:08] WARNING: /Users/runner/work/xgboost/xgboost/src/learner.cc:740: \n",
      "Parameters: { \"use_label_encoder\" } are not used.\n",
      "\n",
      "  warnings.warn(smsg, UserWarning)\n",
      "/Users/iankwak/Documents/Bank_Marketing_ML/venv/lib/python3.9/site-packages/xgboost/core.py:158: UserWarning: [18:43:08] WARNING: /Users/runner/work/xgboost/xgboost/src/learner.cc:740: \n",
      "Parameters: { \"use_label_encoder\" } are not used.\n",
      "\n",
      "  warnings.warn(smsg, UserWarning)\n",
      "/Users/iankwak/Documents/Bank_Marketing_ML/venv/lib/python3.9/site-packages/xgboost/core.py:158: UserWarning: [18:43:08] WARNING: /Users/runner/work/xgboost/xgboost/src/learner.cc:740: \n",
      "Parameters: { \"use_label_encoder\" } are not used.\n",
      "\n",
      "  warnings.warn(smsg, UserWarning)\n",
      "/Users/iankwak/Documents/Bank_Marketing_ML/venv/lib/python3.9/site-packages/xgboost/core.py:158: UserWarning: [18:43:08] WARNING: /Users/runner/work/xgboost/xgboost/src/learner.cc:740: \n",
      "Parameters: { \"use_label_encoder\" } are not used.\n",
      "\n",
      "  warnings.warn(smsg, UserWarning)\n"
     ]
    },
    {
     "name": "stdout",
     "output_type": "stream",
     "text": [
      "[CV] END model__colsample_bytree=1.0, model__learning_rate=0.1, model__max_depth=7, model__n_estimators=100, model__subsample=0.8; total time=   1.5s\n",
      "[CV] END model__colsample_bytree=1.0, model__learning_rate=0.1, model__max_depth=7, model__n_estimators=100, model__subsample=1.0; total time=   1.5s\n",
      "[CV] END model__colsample_bytree=1.0, model__learning_rate=0.1, model__max_depth=7, model__n_estimators=100, model__subsample=0.8; total time=   1.6s\n"
     ]
    },
    {
     "name": "stderr",
     "output_type": "stream",
     "text": [
      "/Users/iankwak/Documents/Bank_Marketing_ML/venv/lib/python3.9/site-packages/xgboost/core.py:158: UserWarning: [18:43:09] WARNING: /Users/runner/work/xgboost/xgboost/src/learner.cc:740: \n",
      "Parameters: { \"use_label_encoder\" } are not used.\n",
      "\n",
      "  warnings.warn(smsg, UserWarning)\n",
      "/Users/iankwak/Documents/Bank_Marketing_ML/venv/lib/python3.9/site-packages/xgboost/core.py:158: UserWarning: [18:43:09] WARNING: /Users/runner/work/xgboost/xgboost/src/learner.cc:740: \n",
      "Parameters: { \"use_label_encoder\" } are not used.\n",
      "\n",
      "  warnings.warn(smsg, UserWarning)\n",
      "/Users/iankwak/Documents/Bank_Marketing_ML/venv/lib/python3.9/site-packages/xgboost/core.py:158: UserWarning: [18:43:09] WARNING: /Users/runner/work/xgboost/xgboost/src/learner.cc:740: \n",
      "Parameters: { \"use_label_encoder\" } are not used.\n",
      "\n",
      "  warnings.warn(smsg, UserWarning)\n",
      "/Users/iankwak/Documents/Bank_Marketing_ML/venv/lib/python3.9/site-packages/xgboost/core.py:158: UserWarning: [18:43:09] WARNING: /Users/runner/work/xgboost/xgboost/src/learner.cc:740: \n",
      "Parameters: { \"use_label_encoder\" } are not used.\n",
      "\n",
      "  warnings.warn(smsg, UserWarning)\n"
     ]
    },
    {
     "name": "stdout",
     "output_type": "stream",
     "text": [
      "[CV] END model__colsample_bytree=1.0, model__learning_rate=0.1, model__max_depth=7, model__n_estimators=100, model__subsample=1.0; total time=   1.2s\n",
      "[CV] END model__colsample_bytree=1.0, model__learning_rate=0.1, model__max_depth=7, model__n_estimators=100, model__subsample=1.0; total time=   1.3s\n",
      "[CV] END model__colsample_bytree=1.0, model__learning_rate=0.1, model__max_depth=7, model__n_estimators=100, model__subsample=1.0; total time=   1.5s\n",
      "[CV] END model__colsample_bytree=1.0, model__learning_rate=0.1, model__max_depth=7, model__n_estimators=100, model__subsample=1.0; total time=   1.4s\n"
     ]
    },
    {
     "name": "stderr",
     "output_type": "stream",
     "text": [
      "/Users/iankwak/Documents/Bank_Marketing_ML/venv/lib/python3.9/site-packages/xgboost/core.py:158: UserWarning: [18:43:09] WARNING: /Users/runner/work/xgboost/xgboost/src/learner.cc:740: \n",
      "Parameters: { \"use_label_encoder\" } are not used.\n",
      "\n",
      "  warnings.warn(smsg, UserWarning)\n",
      "/Users/iankwak/Documents/Bank_Marketing_ML/venv/lib/python3.9/site-packages/xgboost/core.py:158: UserWarning: [18:43:10] WARNING: /Users/runner/work/xgboost/xgboost/src/learner.cc:740: \n",
      "Parameters: { \"use_label_encoder\" } are not used.\n",
      "\n",
      "  warnings.warn(smsg, UserWarning)\n",
      "/Users/iankwak/Documents/Bank_Marketing_ML/venv/lib/python3.9/site-packages/xgboost/core.py:158: UserWarning: [18:43:10] WARNING: /Users/runner/work/xgboost/xgboost/src/learner.cc:740: \n",
      "Parameters: { \"use_label_encoder\" } are not used.\n",
      "\n",
      "  warnings.warn(smsg, UserWarning)\n",
      "/Users/iankwak/Documents/Bank_Marketing_ML/venv/lib/python3.9/site-packages/xgboost/core.py:158: UserWarning: [18:43:10] WARNING: /Users/runner/work/xgboost/xgboost/src/learner.cc:740: \n",
      "Parameters: { \"use_label_encoder\" } are not used.\n",
      "\n",
      "  warnings.warn(smsg, UserWarning)\n"
     ]
    },
    {
     "name": "stdout",
     "output_type": "stream",
     "text": [
      "[CV] END model__colsample_bytree=1.0, model__learning_rate=0.1, model__max_depth=7, model__n_estimators=200, model__subsample=0.8; total time=   2.2s\n",
      "[CV] END model__colsample_bytree=1.0, model__learning_rate=0.1, model__max_depth=7, model__n_estimators=200, model__subsample=0.8; total time=   2.1s\n",
      "[CV] END model__colsample_bytree=1.0, model__learning_rate=0.1, model__max_depth=7, model__n_estimators=200, model__subsample=0.8; total time=   2.1s\n",
      "[CV] END model__colsample_bytree=1.0, model__learning_rate=0.1, model__max_depth=7, model__n_estimators=200, model__subsample=0.8; total time=   2.1s\n"
     ]
    },
    {
     "name": "stderr",
     "output_type": "stream",
     "text": [
      "/Users/iankwak/Documents/Bank_Marketing_ML/venv/lib/python3.9/site-packages/xgboost/core.py:158: UserWarning: [18:43:11] WARNING: /Users/runner/work/xgboost/xgboost/src/learner.cc:740: \n",
      "Parameters: { \"use_label_encoder\" } are not used.\n",
      "\n",
      "  warnings.warn(smsg, UserWarning)\n",
      "/Users/iankwak/Documents/Bank_Marketing_ML/venv/lib/python3.9/site-packages/xgboost/core.py:158: UserWarning: [18:43:11] WARNING: /Users/runner/work/xgboost/xgboost/src/learner.cc:740: \n",
      "Parameters: { \"use_label_encoder\" } are not used.\n",
      "\n",
      "  warnings.warn(smsg, UserWarning)\n"
     ]
    },
    {
     "name": "stdout",
     "output_type": "stream",
     "text": [
      "[CV] END model__colsample_bytree=1.0, model__learning_rate=0.1, model__max_depth=7, model__n_estimators=200, model__subsample=1.0; total time=   2.0s\n",
      "[CV] END model__colsample_bytree=1.0, model__learning_rate=0.1, model__max_depth=7, model__n_estimators=200, model__subsample=1.0; total time=   1.9s\n",
      "[CV] END model__colsample_bytree=1.0, model__learning_rate=0.1, model__max_depth=7, model__n_estimators=200, model__subsample=0.8; total time=   2.2s\n",
      "[CV] END model__colsample_bytree=1.0, model__learning_rate=0.1, model__max_depth=7, model__n_estimators=200, model__subsample=1.0; total time=   1.9s\n",
      "[CV] END model__colsample_bytree=1.0, model__learning_rate=0.1, model__max_depth=7, model__n_estimators=200, model__subsample=1.0; total time=   1.3s\n",
      "[CV] END model__colsample_bytree=1.0, model__learning_rate=0.1, model__max_depth=7, model__n_estimators=200, model__subsample=1.0; total time=   1.1s\n"
     ]
    },
    {
     "name": "stderr",
     "output_type": "stream",
     "text": [
      "/Users/iankwak/Documents/Bank_Marketing_ML/venv/lib/python3.9/site-packages/xgboost/core.py:158: UserWarning: [18:43:12] WARNING: /Users/runner/work/xgboost/xgboost/src/learner.cc:740: \n",
      "Parameters: { \"use_label_encoder\" } are not used.\n",
      "\n",
      "  warnings.warn(smsg, UserWarning)\n"
     ]
    },
    {
     "data": {
      "text/html": [
       "<style>#sk-container-id-1 {\n",
       "  /* Definition of color scheme common for light and dark mode */\n",
       "  --sklearn-color-text: #000;\n",
       "  --sklearn-color-text-muted: #666;\n",
       "  --sklearn-color-line: gray;\n",
       "  /* Definition of color scheme for unfitted estimators */\n",
       "  --sklearn-color-unfitted-level-0: #fff5e6;\n",
       "  --sklearn-color-unfitted-level-1: #f6e4d2;\n",
       "  --sklearn-color-unfitted-level-2: #ffe0b3;\n",
       "  --sklearn-color-unfitted-level-3: chocolate;\n",
       "  /* Definition of color scheme for fitted estimators */\n",
       "  --sklearn-color-fitted-level-0: #f0f8ff;\n",
       "  --sklearn-color-fitted-level-1: #d4ebff;\n",
       "  --sklearn-color-fitted-level-2: #b3dbfd;\n",
       "  --sklearn-color-fitted-level-3: cornflowerblue;\n",
       "\n",
       "  /* Specific color for light theme */\n",
       "  --sklearn-color-text-on-default-background: var(--sg-text-color, var(--theme-code-foreground, var(--jp-content-font-color1, black)));\n",
       "  --sklearn-color-background: var(--sg-background-color, var(--theme-background, var(--jp-layout-color0, white)));\n",
       "  --sklearn-color-border-box: var(--sg-text-color, var(--theme-code-foreground, var(--jp-content-font-color1, black)));\n",
       "  --sklearn-color-icon: #696969;\n",
       "\n",
       "  @media (prefers-color-scheme: dark) {\n",
       "    /* Redefinition of color scheme for dark theme */\n",
       "    --sklearn-color-text-on-default-background: var(--sg-text-color, var(--theme-code-foreground, var(--jp-content-font-color1, white)));\n",
       "    --sklearn-color-background: var(--sg-background-color, var(--theme-background, var(--jp-layout-color0, #111)));\n",
       "    --sklearn-color-border-box: var(--sg-text-color, var(--theme-code-foreground, var(--jp-content-font-color1, white)));\n",
       "    --sklearn-color-icon: #878787;\n",
       "  }\n",
       "}\n",
       "\n",
       "#sk-container-id-1 {\n",
       "  color: var(--sklearn-color-text);\n",
       "}\n",
       "\n",
       "#sk-container-id-1 pre {\n",
       "  padding: 0;\n",
       "}\n",
       "\n",
       "#sk-container-id-1 input.sk-hidden--visually {\n",
       "  border: 0;\n",
       "  clip: rect(1px 1px 1px 1px);\n",
       "  clip: rect(1px, 1px, 1px, 1px);\n",
       "  height: 1px;\n",
       "  margin: -1px;\n",
       "  overflow: hidden;\n",
       "  padding: 0;\n",
       "  position: absolute;\n",
       "  width: 1px;\n",
       "}\n",
       "\n",
       "#sk-container-id-1 div.sk-dashed-wrapped {\n",
       "  border: 1px dashed var(--sklearn-color-line);\n",
       "  margin: 0 0.4em 0.5em 0.4em;\n",
       "  box-sizing: border-box;\n",
       "  padding-bottom: 0.4em;\n",
       "  background-color: var(--sklearn-color-background);\n",
       "}\n",
       "\n",
       "#sk-container-id-1 div.sk-container {\n",
       "  /* jupyter's `normalize.less` sets `[hidden] { display: none; }`\n",
       "     but bootstrap.min.css set `[hidden] { display: none !important; }`\n",
       "     so we also need the `!important` here to be able to override the\n",
       "     default hidden behavior on the sphinx rendered scikit-learn.org.\n",
       "     See: https://github.com/scikit-learn/scikit-learn/issues/21755 */\n",
       "  display: inline-block !important;\n",
       "  position: relative;\n",
       "}\n",
       "\n",
       "#sk-container-id-1 div.sk-text-repr-fallback {\n",
       "  display: none;\n",
       "}\n",
       "\n",
       "div.sk-parallel-item,\n",
       "div.sk-serial,\n",
       "div.sk-item {\n",
       "  /* draw centered vertical line to link estimators */\n",
       "  background-image: linear-gradient(var(--sklearn-color-text-on-default-background), var(--sklearn-color-text-on-default-background));\n",
       "  background-size: 2px 100%;\n",
       "  background-repeat: no-repeat;\n",
       "  background-position: center center;\n",
       "}\n",
       "\n",
       "/* Parallel-specific style estimator block */\n",
       "\n",
       "#sk-container-id-1 div.sk-parallel-item::after {\n",
       "  content: \"\";\n",
       "  width: 100%;\n",
       "  border-bottom: 2px solid var(--sklearn-color-text-on-default-background);\n",
       "  flex-grow: 1;\n",
       "}\n",
       "\n",
       "#sk-container-id-1 div.sk-parallel {\n",
       "  display: flex;\n",
       "  align-items: stretch;\n",
       "  justify-content: center;\n",
       "  background-color: var(--sklearn-color-background);\n",
       "  position: relative;\n",
       "}\n",
       "\n",
       "#sk-container-id-1 div.sk-parallel-item {\n",
       "  display: flex;\n",
       "  flex-direction: column;\n",
       "}\n",
       "\n",
       "#sk-container-id-1 div.sk-parallel-item:first-child::after {\n",
       "  align-self: flex-end;\n",
       "  width: 50%;\n",
       "}\n",
       "\n",
       "#sk-container-id-1 div.sk-parallel-item:last-child::after {\n",
       "  align-self: flex-start;\n",
       "  width: 50%;\n",
       "}\n",
       "\n",
       "#sk-container-id-1 div.sk-parallel-item:only-child::after {\n",
       "  width: 0;\n",
       "}\n",
       "\n",
       "/* Serial-specific style estimator block */\n",
       "\n",
       "#sk-container-id-1 div.sk-serial {\n",
       "  display: flex;\n",
       "  flex-direction: column;\n",
       "  align-items: center;\n",
       "  background-color: var(--sklearn-color-background);\n",
       "  padding-right: 1em;\n",
       "  padding-left: 1em;\n",
       "}\n",
       "\n",
       "\n",
       "/* Toggleable style: style used for estimator/Pipeline/ColumnTransformer box that is\n",
       "clickable and can be expanded/collapsed.\n",
       "- Pipeline and ColumnTransformer use this feature and define the default style\n",
       "- Estimators will overwrite some part of the style using the `sk-estimator` class\n",
       "*/\n",
       "\n",
       "/* Pipeline and ColumnTransformer style (default) */\n",
       "\n",
       "#sk-container-id-1 div.sk-toggleable {\n",
       "  /* Default theme specific background. It is overwritten whether we have a\n",
       "  specific estimator or a Pipeline/ColumnTransformer */\n",
       "  background-color: var(--sklearn-color-background);\n",
       "}\n",
       "\n",
       "/* Toggleable label */\n",
       "#sk-container-id-1 label.sk-toggleable__label {\n",
       "  cursor: pointer;\n",
       "  display: flex;\n",
       "  width: 100%;\n",
       "  margin-bottom: 0;\n",
       "  padding: 0.5em;\n",
       "  box-sizing: border-box;\n",
       "  text-align: center;\n",
       "  align-items: start;\n",
       "  justify-content: space-between;\n",
       "  gap: 0.5em;\n",
       "}\n",
       "\n",
       "#sk-container-id-1 label.sk-toggleable__label .caption {\n",
       "  font-size: 0.6rem;\n",
       "  font-weight: lighter;\n",
       "  color: var(--sklearn-color-text-muted);\n",
       "}\n",
       "\n",
       "#sk-container-id-1 label.sk-toggleable__label-arrow:before {\n",
       "  /* Arrow on the left of the label */\n",
       "  content: \"▸\";\n",
       "  float: left;\n",
       "  margin-right: 0.25em;\n",
       "  color: var(--sklearn-color-icon);\n",
       "}\n",
       "\n",
       "#sk-container-id-1 label.sk-toggleable__label-arrow:hover:before {\n",
       "  color: var(--sklearn-color-text);\n",
       "}\n",
       "\n",
       "/* Toggleable content - dropdown */\n",
       "\n",
       "#sk-container-id-1 div.sk-toggleable__content {\n",
       "  max-height: 0;\n",
       "  max-width: 0;\n",
       "  overflow: hidden;\n",
       "  text-align: left;\n",
       "  /* unfitted */\n",
       "  background-color: var(--sklearn-color-unfitted-level-0);\n",
       "}\n",
       "\n",
       "#sk-container-id-1 div.sk-toggleable__content.fitted {\n",
       "  /* fitted */\n",
       "  background-color: var(--sklearn-color-fitted-level-0);\n",
       "}\n",
       "\n",
       "#sk-container-id-1 div.sk-toggleable__content pre {\n",
       "  margin: 0.2em;\n",
       "  border-radius: 0.25em;\n",
       "  color: var(--sklearn-color-text);\n",
       "  /* unfitted */\n",
       "  background-color: var(--sklearn-color-unfitted-level-0);\n",
       "}\n",
       "\n",
       "#sk-container-id-1 div.sk-toggleable__content.fitted pre {\n",
       "  /* unfitted */\n",
       "  background-color: var(--sklearn-color-fitted-level-0);\n",
       "}\n",
       "\n",
       "#sk-container-id-1 input.sk-toggleable__control:checked~div.sk-toggleable__content {\n",
       "  /* Expand drop-down */\n",
       "  max-height: 200px;\n",
       "  max-width: 100%;\n",
       "  overflow: auto;\n",
       "}\n",
       "\n",
       "#sk-container-id-1 input.sk-toggleable__control:checked~label.sk-toggleable__label-arrow:before {\n",
       "  content: \"▾\";\n",
       "}\n",
       "\n",
       "/* Pipeline/ColumnTransformer-specific style */\n",
       "\n",
       "#sk-container-id-1 div.sk-label input.sk-toggleable__control:checked~label.sk-toggleable__label {\n",
       "  color: var(--sklearn-color-text);\n",
       "  background-color: var(--sklearn-color-unfitted-level-2);\n",
       "}\n",
       "\n",
       "#sk-container-id-1 div.sk-label.fitted input.sk-toggleable__control:checked~label.sk-toggleable__label {\n",
       "  background-color: var(--sklearn-color-fitted-level-2);\n",
       "}\n",
       "\n",
       "/* Estimator-specific style */\n",
       "\n",
       "/* Colorize estimator box */\n",
       "#sk-container-id-1 div.sk-estimator input.sk-toggleable__control:checked~label.sk-toggleable__label {\n",
       "  /* unfitted */\n",
       "  background-color: var(--sklearn-color-unfitted-level-2);\n",
       "}\n",
       "\n",
       "#sk-container-id-1 div.sk-estimator.fitted input.sk-toggleable__control:checked~label.sk-toggleable__label {\n",
       "  /* fitted */\n",
       "  background-color: var(--sklearn-color-fitted-level-2);\n",
       "}\n",
       "\n",
       "#sk-container-id-1 div.sk-label label.sk-toggleable__label,\n",
       "#sk-container-id-1 div.sk-label label {\n",
       "  /* The background is the default theme color */\n",
       "  color: var(--sklearn-color-text-on-default-background);\n",
       "}\n",
       "\n",
       "/* On hover, darken the color of the background */\n",
       "#sk-container-id-1 div.sk-label:hover label.sk-toggleable__label {\n",
       "  color: var(--sklearn-color-text);\n",
       "  background-color: var(--sklearn-color-unfitted-level-2);\n",
       "}\n",
       "\n",
       "/* Label box, darken color on hover, fitted */\n",
       "#sk-container-id-1 div.sk-label.fitted:hover label.sk-toggleable__label.fitted {\n",
       "  color: var(--sklearn-color-text);\n",
       "  background-color: var(--sklearn-color-fitted-level-2);\n",
       "}\n",
       "\n",
       "/* Estimator label */\n",
       "\n",
       "#sk-container-id-1 div.sk-label label {\n",
       "  font-family: monospace;\n",
       "  font-weight: bold;\n",
       "  display: inline-block;\n",
       "  line-height: 1.2em;\n",
       "}\n",
       "\n",
       "#sk-container-id-1 div.sk-label-container {\n",
       "  text-align: center;\n",
       "}\n",
       "\n",
       "/* Estimator-specific */\n",
       "#sk-container-id-1 div.sk-estimator {\n",
       "  font-family: monospace;\n",
       "  border: 1px dotted var(--sklearn-color-border-box);\n",
       "  border-radius: 0.25em;\n",
       "  box-sizing: border-box;\n",
       "  margin-bottom: 0.5em;\n",
       "  /* unfitted */\n",
       "  background-color: var(--sklearn-color-unfitted-level-0);\n",
       "}\n",
       "\n",
       "#sk-container-id-1 div.sk-estimator.fitted {\n",
       "  /* fitted */\n",
       "  background-color: var(--sklearn-color-fitted-level-0);\n",
       "}\n",
       "\n",
       "/* on hover */\n",
       "#sk-container-id-1 div.sk-estimator:hover {\n",
       "  /* unfitted */\n",
       "  background-color: var(--sklearn-color-unfitted-level-2);\n",
       "}\n",
       "\n",
       "#sk-container-id-1 div.sk-estimator.fitted:hover {\n",
       "  /* fitted */\n",
       "  background-color: var(--sklearn-color-fitted-level-2);\n",
       "}\n",
       "\n",
       "/* Specification for estimator info (e.g. \"i\" and \"?\") */\n",
       "\n",
       "/* Common style for \"i\" and \"?\" */\n",
       "\n",
       ".sk-estimator-doc-link,\n",
       "a:link.sk-estimator-doc-link,\n",
       "a:visited.sk-estimator-doc-link {\n",
       "  float: right;\n",
       "  font-size: smaller;\n",
       "  line-height: 1em;\n",
       "  font-family: monospace;\n",
       "  background-color: var(--sklearn-color-background);\n",
       "  border-radius: 1em;\n",
       "  height: 1em;\n",
       "  width: 1em;\n",
       "  text-decoration: none !important;\n",
       "  margin-left: 0.5em;\n",
       "  text-align: center;\n",
       "  /* unfitted */\n",
       "  border: var(--sklearn-color-unfitted-level-1) 1pt solid;\n",
       "  color: var(--sklearn-color-unfitted-level-1);\n",
       "}\n",
       "\n",
       ".sk-estimator-doc-link.fitted,\n",
       "a:link.sk-estimator-doc-link.fitted,\n",
       "a:visited.sk-estimator-doc-link.fitted {\n",
       "  /* fitted */\n",
       "  border: var(--sklearn-color-fitted-level-1) 1pt solid;\n",
       "  color: var(--sklearn-color-fitted-level-1);\n",
       "}\n",
       "\n",
       "/* On hover */\n",
       "div.sk-estimator:hover .sk-estimator-doc-link:hover,\n",
       ".sk-estimator-doc-link:hover,\n",
       "div.sk-label-container:hover .sk-estimator-doc-link:hover,\n",
       ".sk-estimator-doc-link:hover {\n",
       "  /* unfitted */\n",
       "  background-color: var(--sklearn-color-unfitted-level-3);\n",
       "  color: var(--sklearn-color-background);\n",
       "  text-decoration: none;\n",
       "}\n",
       "\n",
       "div.sk-estimator.fitted:hover .sk-estimator-doc-link.fitted:hover,\n",
       ".sk-estimator-doc-link.fitted:hover,\n",
       "div.sk-label-container:hover .sk-estimator-doc-link.fitted:hover,\n",
       ".sk-estimator-doc-link.fitted:hover {\n",
       "  /* fitted */\n",
       "  background-color: var(--sklearn-color-fitted-level-3);\n",
       "  color: var(--sklearn-color-background);\n",
       "  text-decoration: none;\n",
       "}\n",
       "\n",
       "/* Span, style for the box shown on hovering the info icon */\n",
       ".sk-estimator-doc-link span {\n",
       "  display: none;\n",
       "  z-index: 9999;\n",
       "  position: relative;\n",
       "  font-weight: normal;\n",
       "  right: .2ex;\n",
       "  padding: .5ex;\n",
       "  margin: .5ex;\n",
       "  width: min-content;\n",
       "  min-width: 20ex;\n",
       "  max-width: 50ex;\n",
       "  color: var(--sklearn-color-text);\n",
       "  box-shadow: 2pt 2pt 4pt #999;\n",
       "  /* unfitted */\n",
       "  background: var(--sklearn-color-unfitted-level-0);\n",
       "  border: .5pt solid var(--sklearn-color-unfitted-level-3);\n",
       "}\n",
       "\n",
       ".sk-estimator-doc-link.fitted span {\n",
       "  /* fitted */\n",
       "  background: var(--sklearn-color-fitted-level-0);\n",
       "  border: var(--sklearn-color-fitted-level-3);\n",
       "}\n",
       "\n",
       ".sk-estimator-doc-link:hover span {\n",
       "  display: block;\n",
       "}\n",
       "\n",
       "/* \"?\"-specific style due to the `<a>` HTML tag */\n",
       "\n",
       "#sk-container-id-1 a.estimator_doc_link {\n",
       "  float: right;\n",
       "  font-size: 1rem;\n",
       "  line-height: 1em;\n",
       "  font-family: monospace;\n",
       "  background-color: var(--sklearn-color-background);\n",
       "  border-radius: 1rem;\n",
       "  height: 1rem;\n",
       "  width: 1rem;\n",
       "  text-decoration: none;\n",
       "  /* unfitted */\n",
       "  color: var(--sklearn-color-unfitted-level-1);\n",
       "  border: var(--sklearn-color-unfitted-level-1) 1pt solid;\n",
       "}\n",
       "\n",
       "#sk-container-id-1 a.estimator_doc_link.fitted {\n",
       "  /* fitted */\n",
       "  border: var(--sklearn-color-fitted-level-1) 1pt solid;\n",
       "  color: var(--sklearn-color-fitted-level-1);\n",
       "}\n",
       "\n",
       "/* On hover */\n",
       "#sk-container-id-1 a.estimator_doc_link:hover {\n",
       "  /* unfitted */\n",
       "  background-color: var(--sklearn-color-unfitted-level-3);\n",
       "  color: var(--sklearn-color-background);\n",
       "  text-decoration: none;\n",
       "}\n",
       "\n",
       "#sk-container-id-1 a.estimator_doc_link.fitted:hover {\n",
       "  /* fitted */\n",
       "  background-color: var(--sklearn-color-fitted-level-3);\n",
       "}\n",
       "</style><div id=\"sk-container-id-1\" class=\"sk-top-container\"><div class=\"sk-text-repr-fallback\"><pre>GridSearchCV(cv=5,\n",
       "             estimator=Pipeline(steps=[(&#x27;preprocessor&#x27;,\n",
       "                                        ColumnTransformer(transformers=[(&#x27;cat&#x27;,\n",
       "                                                                         OneHotEncoder(handle_unknown=&#x27;ignore&#x27;),\n",
       "                                                                         Index([&#x27;job&#x27;, &#x27;marital&#x27;, &#x27;education&#x27;, &#x27;default&#x27;, &#x27;housing&#x27;, &#x27;loan&#x27;, &#x27;contact&#x27;,\n",
       "       &#x27;month&#x27;, &#x27;day_of_week&#x27;, &#x27;poutcome&#x27;],\n",
       "      dtype=&#x27;object&#x27;)),\n",
       "                                                                        (&#x27;num&#x27;,\n",
       "                                                                         &#x27;passthrough&#x27;,\n",
       "                                                                         Index([&#x27;age&#x27;, &#x27;duration&#x27;, &#x27;campaign&#x27;, &#x27;pdays&#x27;, &#x27;previous&#x27;, &#x27;emp.var.rate&#x27;...\n",
       "                                                      min_child_weight=None,\n",
       "                                                      missing=nan,\n",
       "                                                      monotone_constraints=None,\n",
       "                                                      multi_strategy=None,\n",
       "                                                      n_estimators=None,\n",
       "                                                      n_jobs=None,\n",
       "                                                      num_parallel_tree=None,\n",
       "                                                      random_state=1, ...))]),\n",
       "             n_jobs=-1,\n",
       "             param_grid={&#x27;model__colsample_bytree&#x27;: [0.8, 1.0],\n",
       "                         &#x27;model__learning_rate&#x27;: [0.01, 0.1],\n",
       "                         &#x27;model__max_depth&#x27;: [3, 5, 7],\n",
       "                         &#x27;model__n_estimators&#x27;: [100, 200],\n",
       "                         &#x27;model__subsample&#x27;: [0.8, 1.0]},\n",
       "             scoring=&#x27;roc_auc&#x27;, verbose=2)</pre><b>In a Jupyter environment, please rerun this cell to show the HTML representation or trust the notebook. <br />On GitHub, the HTML representation is unable to render, please try loading this page with nbviewer.org.</b></div><div class=\"sk-container\" hidden><div class=\"sk-item sk-dashed-wrapped\"><div class=\"sk-label-container\"><div class=\"sk-label fitted sk-toggleable\"><input class=\"sk-toggleable__control sk-hidden--visually\" id=\"sk-estimator-id-1\" type=\"checkbox\" ><label for=\"sk-estimator-id-1\" class=\"sk-toggleable__label fitted sk-toggleable__label-arrow\"><div><div>GridSearchCV</div></div><div><a class=\"sk-estimator-doc-link fitted\" rel=\"noreferrer\" target=\"_blank\" href=\"https://scikit-learn.org/1.6/modules/generated/sklearn.model_selection.GridSearchCV.html\">?<span>Documentation for GridSearchCV</span></a><span class=\"sk-estimator-doc-link fitted\">i<span>Fitted</span></span></div></label><div class=\"sk-toggleable__content fitted\"><pre>GridSearchCV(cv=5,\n",
       "             estimator=Pipeline(steps=[(&#x27;preprocessor&#x27;,\n",
       "                                        ColumnTransformer(transformers=[(&#x27;cat&#x27;,\n",
       "                                                                         OneHotEncoder(handle_unknown=&#x27;ignore&#x27;),\n",
       "                                                                         Index([&#x27;job&#x27;, &#x27;marital&#x27;, &#x27;education&#x27;, &#x27;default&#x27;, &#x27;housing&#x27;, &#x27;loan&#x27;, &#x27;contact&#x27;,\n",
       "       &#x27;month&#x27;, &#x27;day_of_week&#x27;, &#x27;poutcome&#x27;],\n",
       "      dtype=&#x27;object&#x27;)),\n",
       "                                                                        (&#x27;num&#x27;,\n",
       "                                                                         &#x27;passthrough&#x27;,\n",
       "                                                                         Index([&#x27;age&#x27;, &#x27;duration&#x27;, &#x27;campaign&#x27;, &#x27;pdays&#x27;, &#x27;previous&#x27;, &#x27;emp.var.rate&#x27;...\n",
       "                                                      min_child_weight=None,\n",
       "                                                      missing=nan,\n",
       "                                                      monotone_constraints=None,\n",
       "                                                      multi_strategy=None,\n",
       "                                                      n_estimators=None,\n",
       "                                                      n_jobs=None,\n",
       "                                                      num_parallel_tree=None,\n",
       "                                                      random_state=1, ...))]),\n",
       "             n_jobs=-1,\n",
       "             param_grid={&#x27;model__colsample_bytree&#x27;: [0.8, 1.0],\n",
       "                         &#x27;model__learning_rate&#x27;: [0.01, 0.1],\n",
       "                         &#x27;model__max_depth&#x27;: [3, 5, 7],\n",
       "                         &#x27;model__n_estimators&#x27;: [100, 200],\n",
       "                         &#x27;model__subsample&#x27;: [0.8, 1.0]},\n",
       "             scoring=&#x27;roc_auc&#x27;, verbose=2)</pre></div> </div></div><div class=\"sk-parallel\"><div class=\"sk-parallel-item\"><div class=\"sk-item\"><div class=\"sk-label-container\"><div class=\"sk-label fitted sk-toggleable\"><input class=\"sk-toggleable__control sk-hidden--visually\" id=\"sk-estimator-id-2\" type=\"checkbox\" ><label for=\"sk-estimator-id-2\" class=\"sk-toggleable__label fitted sk-toggleable__label-arrow\"><div><div>best_estimator_: Pipeline</div></div></label><div class=\"sk-toggleable__content fitted\"><pre>Pipeline(steps=[(&#x27;preprocessor&#x27;,\n",
       "                 ColumnTransformer(transformers=[(&#x27;cat&#x27;,\n",
       "                                                  OneHotEncoder(handle_unknown=&#x27;ignore&#x27;),\n",
       "                                                  Index([&#x27;job&#x27;, &#x27;marital&#x27;, &#x27;education&#x27;, &#x27;default&#x27;, &#x27;housing&#x27;, &#x27;loan&#x27;, &#x27;contact&#x27;,\n",
       "       &#x27;month&#x27;, &#x27;day_of_week&#x27;, &#x27;poutcome&#x27;],\n",
       "      dtype=&#x27;object&#x27;)),\n",
       "                                                 (&#x27;num&#x27;, &#x27;passthrough&#x27;,\n",
       "                                                  Index([&#x27;age&#x27;, &#x27;duration&#x27;, &#x27;campaign&#x27;, &#x27;pdays&#x27;, &#x27;previous&#x27;, &#x27;emp.var.rate&#x27;,\n",
       "       &#x27;cons.price.idx&#x27;, &#x27;cons.conf...\n",
       "                               feature_types=None, gamma=None, grow_policy=None,\n",
       "                               importance_type=None,\n",
       "                               interaction_constraints=None, learning_rate=0.1,\n",
       "                               max_bin=None, max_cat_threshold=None,\n",
       "                               max_cat_to_onehot=None, max_delta_step=None,\n",
       "                               max_depth=5, max_leaves=None,\n",
       "                               min_child_weight=None, missing=nan,\n",
       "                               monotone_constraints=None, multi_strategy=None,\n",
       "                               n_estimators=100, n_jobs=None,\n",
       "                               num_parallel_tree=None, random_state=1, ...))])</pre></div> </div></div><div class=\"sk-serial\"><div class=\"sk-item\"><div class=\"sk-serial\"><div class=\"sk-item sk-dashed-wrapped\"><div class=\"sk-label-container\"><div class=\"sk-label fitted sk-toggleable\"><input class=\"sk-toggleable__control sk-hidden--visually\" id=\"sk-estimator-id-3\" type=\"checkbox\" ><label for=\"sk-estimator-id-3\" class=\"sk-toggleable__label fitted sk-toggleable__label-arrow\"><div><div>preprocessor: ColumnTransformer</div></div><div><a class=\"sk-estimator-doc-link fitted\" rel=\"noreferrer\" target=\"_blank\" href=\"https://scikit-learn.org/1.6/modules/generated/sklearn.compose.ColumnTransformer.html\">?<span>Documentation for preprocessor: ColumnTransformer</span></a></div></label><div class=\"sk-toggleable__content fitted\"><pre>ColumnTransformer(transformers=[(&#x27;cat&#x27;, OneHotEncoder(handle_unknown=&#x27;ignore&#x27;),\n",
       "                                 Index([&#x27;job&#x27;, &#x27;marital&#x27;, &#x27;education&#x27;, &#x27;default&#x27;, &#x27;housing&#x27;, &#x27;loan&#x27;, &#x27;contact&#x27;,\n",
       "       &#x27;month&#x27;, &#x27;day_of_week&#x27;, &#x27;poutcome&#x27;],\n",
       "      dtype=&#x27;object&#x27;)),\n",
       "                                (&#x27;num&#x27;, &#x27;passthrough&#x27;,\n",
       "                                 Index([&#x27;age&#x27;, &#x27;duration&#x27;, &#x27;campaign&#x27;, &#x27;pdays&#x27;, &#x27;previous&#x27;, &#x27;emp.var.rate&#x27;,\n",
       "       &#x27;cons.price.idx&#x27;, &#x27;cons.conf.idx&#x27;, &#x27;euribor3m&#x27;, &#x27;nr.employed&#x27;],\n",
       "      dtype=&#x27;object&#x27;))])</pre></div> </div></div><div class=\"sk-parallel\"><div class=\"sk-parallel-item\"><div class=\"sk-item\"><div class=\"sk-label-container\"><div class=\"sk-label fitted sk-toggleable\"><input class=\"sk-toggleable__control sk-hidden--visually\" id=\"sk-estimator-id-4\" type=\"checkbox\" ><label for=\"sk-estimator-id-4\" class=\"sk-toggleable__label fitted sk-toggleable__label-arrow\"><div><div>cat</div></div></label><div class=\"sk-toggleable__content fitted\"><pre>Index([&#x27;job&#x27;, &#x27;marital&#x27;, &#x27;education&#x27;, &#x27;default&#x27;, &#x27;housing&#x27;, &#x27;loan&#x27;, &#x27;contact&#x27;,\n",
       "       &#x27;month&#x27;, &#x27;day_of_week&#x27;, &#x27;poutcome&#x27;],\n",
       "      dtype=&#x27;object&#x27;)</pre></div> </div></div><div class=\"sk-serial\"><div class=\"sk-item\"><div class=\"sk-estimator fitted sk-toggleable\"><input class=\"sk-toggleable__control sk-hidden--visually\" id=\"sk-estimator-id-5\" type=\"checkbox\" ><label for=\"sk-estimator-id-5\" class=\"sk-toggleable__label fitted sk-toggleable__label-arrow\"><div><div>OneHotEncoder</div></div><div><a class=\"sk-estimator-doc-link fitted\" rel=\"noreferrer\" target=\"_blank\" href=\"https://scikit-learn.org/1.6/modules/generated/sklearn.preprocessing.OneHotEncoder.html\">?<span>Documentation for OneHotEncoder</span></a></div></label><div class=\"sk-toggleable__content fitted\"><pre>OneHotEncoder(handle_unknown=&#x27;ignore&#x27;)</pre></div> </div></div></div></div></div><div class=\"sk-parallel-item\"><div class=\"sk-item\"><div class=\"sk-label-container\"><div class=\"sk-label fitted sk-toggleable\"><input class=\"sk-toggleable__control sk-hidden--visually\" id=\"sk-estimator-id-6\" type=\"checkbox\" ><label for=\"sk-estimator-id-6\" class=\"sk-toggleable__label fitted sk-toggleable__label-arrow\"><div><div>num</div></div></label><div class=\"sk-toggleable__content fitted\"><pre>Index([&#x27;age&#x27;, &#x27;duration&#x27;, &#x27;campaign&#x27;, &#x27;pdays&#x27;, &#x27;previous&#x27;, &#x27;emp.var.rate&#x27;,\n",
       "       &#x27;cons.price.idx&#x27;, &#x27;cons.conf.idx&#x27;, &#x27;euribor3m&#x27;, &#x27;nr.employed&#x27;],\n",
       "      dtype=&#x27;object&#x27;)</pre></div> </div></div><div class=\"sk-serial\"><div class=\"sk-item\"><div class=\"sk-estimator fitted sk-toggleable\"><input class=\"sk-toggleable__control sk-hidden--visually\" id=\"sk-estimator-id-7\" type=\"checkbox\" ><label for=\"sk-estimator-id-7\" class=\"sk-toggleable__label fitted sk-toggleable__label-arrow\"><div><div>passthrough</div></div></label><div class=\"sk-toggleable__content fitted\"><pre>passthrough</pre></div> </div></div></div></div></div></div></div><div class=\"sk-item\"><div class=\"sk-estimator fitted sk-toggleable\"><input class=\"sk-toggleable__control sk-hidden--visually\" id=\"sk-estimator-id-8\" type=\"checkbox\" ><label for=\"sk-estimator-id-8\" class=\"sk-toggleable__label fitted sk-toggleable__label-arrow\"><div><div>XGBClassifier</div></div></label><div class=\"sk-toggleable__content fitted\"><pre>XGBClassifier(base_score=None, booster=None, callbacks=None,\n",
       "              colsample_bylevel=None, colsample_bynode=None,\n",
       "              colsample_bytree=1.0, device=None, early_stopping_rounds=None,\n",
       "              enable_categorical=False, eval_metric=&#x27;logloss&#x27;,\n",
       "              feature_types=None, gamma=None, grow_policy=None,\n",
       "              importance_type=None, interaction_constraints=None,\n",
       "              learning_rate=0.1, max_bin=None, max_cat_threshold=None,\n",
       "              max_cat_to_onehot=None, max_delta_step=None, max_depth=5,\n",
       "              max_leaves=None, min_child_weight=None, missing=nan,\n",
       "              monotone_constraints=None, multi_strategy=None, n_estimators=100,\n",
       "              n_jobs=None, num_parallel_tree=None, random_state=1, ...)</pre></div> </div></div></div></div></div></div></div></div></div></div></div>"
      ],
      "text/plain": [
       "GridSearchCV(cv=5,\n",
       "             estimator=Pipeline(steps=[('preprocessor',\n",
       "                                        ColumnTransformer(transformers=[('cat',\n",
       "                                                                         OneHotEncoder(handle_unknown='ignore'),\n",
       "                                                                         Index(['job', 'marital', 'education', 'default', 'housing', 'loan', 'contact',\n",
       "       'month', 'day_of_week', 'poutcome'],\n",
       "      dtype='object')),\n",
       "                                                                        ('num',\n",
       "                                                                         'passthrough',\n",
       "                                                                         Index(['age', 'duration', 'campaign', 'pdays', 'previous', 'emp.var.rate'...\n",
       "                                                      min_child_weight=None,\n",
       "                                                      missing=nan,\n",
       "                                                      monotone_constraints=None,\n",
       "                                                      multi_strategy=None,\n",
       "                                                      n_estimators=None,\n",
       "                                                      n_jobs=None,\n",
       "                                                      num_parallel_tree=None,\n",
       "                                                      random_state=1, ...))]),\n",
       "             n_jobs=-1,\n",
       "             param_grid={'model__colsample_bytree': [0.8, 1.0],\n",
       "                         'model__learning_rate': [0.01, 0.1],\n",
       "                         'model__max_depth': [3, 5, 7],\n",
       "                         'model__n_estimators': [100, 200],\n",
       "                         'model__subsample': [0.8, 1.0]},\n",
       "             scoring='roc_auc', verbose=2)"
      ]
     },
     "execution_count": 10,
     "metadata": {},
     "output_type": "execute_result"
    }
   ],
   "source": [
    "# Grid search with 5-fold cross-validation\n",
    "grid_search = GridSearchCV(\n",
    "    estimator=pipe,\n",
    "    param_grid=param_grid,\n",
    "    cv=5,\n",
    "    n_jobs=-1,\n",
    "    verbose=2,\n",
    "    scoring='roc_auc'\n",
    ")\n",
    "\n",
    "# Fit model\n",
    "grid_search.fit(X_train, y_train)\n",
    "\n"
   ]
  },
  {
   "cell_type": "code",
   "execution_count": null,
   "metadata": {},
   "outputs": [
    {
     "name": "stdout",
     "output_type": "stream",
     "text": [
      "Best parameters found: {'model__colsample_bytree': 1.0, 'model__learning_rate': 0.1, 'model__max_depth': 5, 'model__n_estimators': 100, 'model__subsample': 0.8}\n",
      "\n",
      "Accuracy: 0.9201262442340374\n",
      "\n",
      "Classification Report:\n",
      "               precision    recall  f1-score   support\n",
      "\n",
      "           0       0.95      0.97      0.96      7310\n",
      "           1       0.67      0.56      0.61       928\n",
      "\n",
      "    accuracy                           0.92      8238\n",
      "   macro avg       0.81      0.76      0.78      8238\n",
      "weighted avg       0.92      0.92      0.92      8238\n",
      "\n",
      "\n",
      "Confusion Matrix:\n",
      " [[7056  254]\n",
      " [ 404  524]]\n"
     ]
    }
   ],
   "source": [
    "#these are the best parameters\n",
    "print(\"Best parameters found:\", grid_search.best_params_)\n",
    "\n",
    "#assigning the best model\n",
    "best_model = grid_search.best_estimator_\n",
    "\n",
    "#these are the predictions\n",
    "y_pred = best_model.predict(X_test)\n",
    "y_proba = best_model.predict_proba(X_test)[:, 1]\n",
    "\n",
    "#evaluation\n",
    "print(\"\\nAccuracy:\", accuracy_score(y_test, y_pred))\n",
    "print(\"\\nClassification Report:\\n\", classification_report(y_test, y_pred))\n",
    "print(\"\\nConfusion Matrix:\\n\", confusion_matrix(y_test, y_pred))\n",
    "\n"
   ]
  },
  {
   "cell_type": "code",
   "execution_count": null,
   "metadata": {},
   "outputs": [
    {
     "name": "stdout",
     "output_type": "stream",
     "text": [
      "AUC: 0.9485839544318129\n"
     ]
    },
    {
     "data": {
      "image/png": "[encoded data removed]",
      "text/plain": [
       "<Figure size 600x500 with 1 Axes>"
      ]
     },
     "metadata": {},
     "output_type": "display_data"
    }
   ],
   "source": [
    "#ROC/AUC and plotting it\n",
    "auc = roc_auc_score(y_test, y_proba)\n",
    "print(\"AUC:\", auc)\n",
    "\n",
    "fpr, tpr, _ = roc_curve(y_test, y_proba)\n",
    "plt.figure(figsize=(6,5))\n",
    "plt.plot(fpr, tpr, label=f\"AUC = {auc:.3f}\")\n",
    "plt.plot([0,1], [0,1], 'k--')\n",
    "plt.xlabel('False Positive Rate')\n",
    "plt.ylabel('True Positive Rate')\n",
    "plt.title('ROC Curve (XGBoost)')\n",
    "plt.legend()\n",
    "plt.show()"
   ]
  }
 ],
 "metadata": {
  "kernelspec": {
   "display_name": "venv",
   "language": "python",
   "name": "python3"
  },
  "language_info": {
   "codemirror_mode": {
    "name": "ipython",
    "version": 3
   },
   "file_extension": ".py",
   "mimetype": "text/x-python",
   "name": "python",
   "nbconvert_exporter": "python",
   "pygments_lexer": "ipython3",
   "version": "3.9.7"
  }
 },
 "nbformat": 4,
 "nbformat_minor": 2
}
